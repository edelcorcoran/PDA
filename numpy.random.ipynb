{
 "cells": [
  {
   "cell_type": "markdown",
   "metadata": {},
   "source": [
    "# **_Edel Corcoran ID #:G00010824_**\n",
    "# **_GMIT: Higher Diploma in Data Analytics_**\n",
    "# **_Module 52465: Programming for Data Analytics_**\n",
    "# **_Assignment: NumPy.Random Package_**"
   ]
  },
  {
   "cell_type": "markdown",
   "metadata": {},
   "source": [
    "# Introduction & Project Layout\n",
    "\n",
    "The primary focus of this project is to  research the numpy.random package, to explain it's overall purpose and analyse in detail at least five of the distributions within the package and also to investigate the use of both the \"Simple Random Data\" and \"Permutation\" functions. Finally the project will outline how numpy.random uses seeds in generating psuedorandom numbers. \n",
    "\n",
    "The project layout\n",
    "1. What is the numpy.random package\n",
    "2. What is the overall purpose of the package\n",
    "3. Explanation of the \"Simple Random Data\" function\n",
    "4. Explanation of the \"Permutation\" function\n",
    "5. Use/Purpose of 5 distributions functions of numpy.random\n",
    "6. Use of seeds in generating pseudorandom numbers\n",
    "7. Summary\n",
    "8. References/Biblography\n"
   ]
  },
  {
   "cell_type": "markdown",
   "metadata": {},
   "source": [
    "# _1. What is numpy.random?_\n",
    "\n",
    "\"NumPy is the fundamental package for scientific computing in Python. It is a Python library that provides a multidimensional array object, various derived objects (such as masked arrays and matrices), and an assortment of routines for fast operations on arrays, including mathematical, logical, shape manipulation, sorting, selecting, I/O, discrete Fourier transforms, basic linear algebra, basic statistical operations, random simulation and much more.\" [1]\n",
    "\n",
    "Essentially numpy is good and quick at dealing with numbers in big lists or matrices in python. If you need to deal with numbers you could write some code in python however numpy is simply a far more efficient way for you to deal with number lists or matrices in python. This specialist package deals with multi-dimensional arrays (ie. lists within lists) and it likes them to have a rectangular so two dimensionals lists each row/column having the same number of elements.  \n",
    "\n",
    "Numpy.random is a sub-package of the NumPy package in python. \n",
    "\n",
    "Further information on the functions, permutations, distributions and random generator available within the numpy.random package is available on the website below:\n",
    "\n",
    "https://docs.scipy.org/doc/numpy-1.15.0/reference/routines.random.html\n"
   ]
  },
  {
   "cell_type": "markdown",
   "metadata": {},
   "source": [
    "# _2. Purpose of the package_\n",
    "\n",
    "\"NumPy is a data manipulation module for Python. Specifically, the tools from NumPy operate on arrays of numbers … i.e., numeric data. Because NumPy functions operate on numbers, they are especially useful for data science, statistics, and machine learning\".[2]\n",
    "\n",
    "It's a specialise package which help users to efficiently deal with lists of numbers or matrices in python. It's important for the simple reason that matrice operations are commonly utilised in computers and computer screens. Some tasks which require matrice operations are:\n",
    "\n",
    "- resizing photographs\n",
    "- compressing images or songs down to a particular size\n",
    "- doing anything scientific on a computer\n",
    "\n",
    "The package is widely used in data analysis, data science, machine learning etc.\n",
    "\n"
   ]
  },
  {
   "cell_type": "markdown",
   "metadata": {},
   "source": [
    "# 3. Simple Random Data"
   ]
  },
  {
   "cell_type": "markdown",
   "metadata": {},
   "source": [
    "The NumPy.Random package has ten simple random functions which are outlined in the image [10] below, using these functions it possible to generate random data to a specified size and shape. This package makes carrying out such tacks very efficient and effective and help analysts generate the desired random data almost instantly. A fundamental assumption for data analysts or anyone using statistical analysis is that data is generated randomly and this package succeeds in this task. Some of the main functions are explained in more detail below with code included to illustrate.\n",
    "\n",
    "<img src=\"SRD_Functions.png\">"
   ]
  },
  {
   "cell_type": "markdown",
   "metadata": {},
   "source": [
    "**_rand_ function**\n",
    "\n",
    "Basically the function will generate random floating numbers between zero (included) and one (excluded) to a specified size and dimension (d1, d2,... dn)from a uniform distribution. It is possible to alter the range if desired. In the code examples below you can firstly see a single flaoting number generated and secondly a multi-dimensional array of floats generated. \n"
   ]
  },
  {
   "cell_type": "code",
   "execution_count": 22,
   "metadata": {},
   "outputs": [
    {
     "data": {
      "text/plain": [
       "0.3000311025878334"
      ]
     },
     "execution_count": 22,
     "metadata": {},
     "output_type": "execute_result"
    }
   ],
   "source": [
    "#import numpy library\n",
    "import numpy as np\n",
    "#Generate a random from from uniform distribution\n",
    "np.random.rand()"
   ]
  },
  {
   "cell_type": "code",
   "execution_count": 21,
   "metadata": {},
   "outputs": [
    {
     "data": {
      "text/plain": [
       "array([[0.52087132, 0.98574646, 0.56325727, 0.13228356, 0.52066719],\n",
       "       [0.78460765, 0.28299982, 0.94421487, 0.43410777, 0.71686745],\n",
       "       [0.6665944 , 0.2522035 , 0.03440207, 0.81909253, 0.21594717]])"
      ]
     },
     "execution_count": 21,
     "metadata": {},
     "output_type": "execute_result"
    }
   ],
   "source": [
    "#import numpy library\n",
    "import numpy as np\n",
    "#Generate an array  with 3 rows and 5 columns populated with random floats\n",
    "np.random.rand(3,5)"
   ]
  },
  {
   "cell_type": "code",
   "execution_count": 36,
   "metadata": {},
   "outputs": [
    {
     "name": "stdout",
     "output_type": "stream",
     "text": [
      "0.850112565670222\n"
     ]
    }
   ],
   "source": [
    "#Generate a random float between the range between 1 and -1\n",
    "print(np.random.rand()*2.0-1.0)"
   ]
  },
  {
   "cell_type": "markdown",
   "metadata": {},
   "source": [
    "**_randint_ Function**\n",
    "\n",
    "Generates an array of specified shape populated with random integer(s) from the discrete uniform distribution in the half open interval ie.between a specified min (included) and max (excluded) value. The parameters are the min/max values and size required: np.random.randint(min,max,size)."
   ]
  },
  {
   "cell_type": "code",
   "execution_count": 61,
   "metadata": {},
   "outputs": [
    {
     "data": {
      "text/plain": [
       "0"
      ]
     },
     "execution_count": 61,
     "metadata": {},
     "output_type": "execute_result"
    }
   ],
   "source": [
    "#Import numpy library\n",
    "import numpy as np\n",
    "#Generate a random integer between o and 4\n",
    "np.random.randint(5)"
   ]
  },
  {
   "cell_type": "code",
   "execution_count": 72,
   "metadata": {},
   "outputs": [
    {
     "data": {
      "text/plain": [
       "array([8, 9, 7])"
      ]
     },
     "execution_count": 72,
     "metadata": {},
     "output_type": "execute_result"
    }
   ],
   "source": [
    "#Shape can be altered to generate a required array ...Here an array of 3 random integers between 0 and 9 are genereted.\n",
    "np.random.randint(0, 10, 3)"
   ]
  },
  {
   "cell_type": "markdown",
   "metadata": {},
   "source": [
    "**_randn_ function**\n",
    "\n",
    "It will generate data in a specified shape from the standard normal distribution\n"
   ]
  },
  {
   "cell_type": "code",
   "execution_count": 25,
   "metadata": {},
   "outputs": [
    {
     "data": {
      "text/plain": [
       "0.4190445691924633"
      ]
     },
     "execution_count": 25,
     "metadata": {},
     "output_type": "execute_result"
    }
   ],
   "source": [
    "#Generate a random float from a normal distribution\n",
    "np.random.randn()"
   ]
  },
  {
   "cell_type": "code",
   "execution_count": 20,
   "metadata": {},
   "outputs": [
    {
     "data": {
      "text/plain": [
       "array([[ 0.25922884, -0.35721263,  2.16093291,  0.68860656],\n",
       "       [ 0.82136775, -0.04655131,  0.93390317, -0.1051617 ],\n",
       "       [-0.95590426,  0.92408812,  0.62305723,  1.45676208]])"
      ]
     },
     "execution_count": 20,
     "metadata": {},
     "output_type": "execute_result"
    }
   ],
   "source": [
    "#Generate an array with 3 rows and 4 columns  populated with random floats\n",
    "np.random.randn(3, 4)"
   ]
  },
  {
   "cell_type": "markdown",
   "metadata": {},
   "source": [
    "**random_sample Funtion**\n",
    "\n",
    "This function will generate random floats from a continous uniform distribution between zero (included) and one (excluded) ie.half open interval. Similarly to previous functions shape can be manipulated as required."
   ]
  },
  {
   "cell_type": "code",
   "execution_count": 81,
   "metadata": {},
   "outputs": [
    {
     "data": {
      "text/plain": [
       "0.6734794716221294"
      ]
     },
     "execution_count": 81,
     "metadata": {},
     "output_type": "execute_result"
    }
   ],
   "source": [
    "#Generate a random float between o and 1 (excluded)\n",
    "np.random.random_sample()"
   ]
  },
  {
   "cell_type": "code",
   "execution_count": 82,
   "metadata": {},
   "outputs": [
    {
     "data": {
      "text/plain": [
       "array([0.81000532, 0.02816629, 0.67524805, 0.46871307, 0.77042793])"
      ]
     },
     "execution_count": 82,
     "metadata": {},
     "output_type": "execute_result"
    }
   ],
   "source": [
    "#Generate a random array of 5 floats between 0 and 1(ecxluded)\n",
    "np.random.random_sample(5)"
   ]
  },
  {
   "cell_type": "markdown",
   "metadata": {},
   "source": [
    "**_choice_ Function**\n",
    "\n",
    "This function will generate random samples from a given 1D array. \n"
   ]
  },
  {
   "cell_type": "code",
   "execution_count": 90,
   "metadata": {},
   "outputs": [
    {
     "data": {
      "text/plain": [
       "array([6, 4, 7])"
      ]
     },
     "execution_count": 90,
     "metadata": {},
     "output_type": "execute_result"
    }
   ],
   "source": [
    "#Generate 3 random uniform samples from between 0-9 (not including 10)\n",
    "np.random.choice(10,3)"
   ]
  },
  {
   "cell_type": "markdown",
   "metadata": {},
   "source": [
    "**_bytes_ Function**\n",
    "\n",
    "The bytes function will generate random bytes to the specified size/length.\n",
    "\n"
   ]
  },
  {
   "cell_type": "code",
   "execution_count": 92,
   "metadata": {},
   "outputs": [
    {
     "data": {
      "text/plain": [
       "b'\\xc2U\\x0f\\x86\\x17\\xd1\\x91\\x92k\\xc5$\\xf5\\xc5\\xac8\\x89Y\\xfb\\xcc\\x00\\xa5F\"\\x13W\\xe7\\xd8\\x13_c\\xca\\xc7\\xa6\\xb9`\\t\\x02\\xc4!\\xa5\\xc1F$\\xf9 \\xb3\\xd0\\xca4\\x9d'"
      ]
     },
     "execution_count": 92,
     "metadata": {},
     "output_type": "execute_result"
    }
   ],
   "source": [
    "#Generate 10 random bytes\n",
    "np.random.bytes(50)"
   ]
  },
  {
   "cell_type": "markdown",
   "metadata": {},
   "source": [
    "# 4. Permutations\n",
    "\n"
   ]
  },
  {
   "cell_type": "markdown",
   "metadata": {},
   "source": [
    "**Shuffle**\n",
    "\n",
    "\"Modify a sequence in-place by shuffling its contents.This function only shuffles the array along the first axis of a multi-dimensional array. The order of sub-arrays is changed but their contents remains the same.\"[4]\n",
    "\n",
    "The NumPy **arange** function will produce an array with evenly spaced numerical values within a given range. In the example below an array with five values is produced from 0  to 4.\n"
   ]
  },
  {
   "cell_type": "code",
   "execution_count": 35,
   "metadata": {},
   "outputs": [
    {
     "data": {
      "text/plain": [
       "array([0, 1, 2, 3, 4])"
      ]
     },
     "execution_count": 35,
     "metadata": {},
     "output_type": "execute_result"
    }
   ],
   "source": [
    "import numpy as np\n",
    "array = np.arange(5)\n",
    "array"
   ]
  },
  {
   "cell_type": "markdown",
   "metadata": {},
   "source": [
    "When the shuffle function (ie. **np.random.shuffle** in the code below) is applied the 5 element array above is shuffled. The same five values are produced but now they are shuffled and appear in a different order as seen below:"
   ]
  },
  {
   "cell_type": "code",
   "execution_count": 37,
   "metadata": {},
   "outputs": [
    {
     "data": {
      "text/plain": [
       "array([3, 0, 1, 2, 4])"
      ]
     },
     "execution_count": 37,
     "metadata": {},
     "output_type": "execute_result"
    }
   ],
   "source": [
    "import numpy as np\n",
    "x = np.arange(5)\n",
    "np.random.shuffle(x)\n",
    "x"
   ]
  },
  {
   "cell_type": "markdown",
   "metadata": {},
   "source": [
    "**Permutation**\n",
    "\n",
    "\"Randomly permute a sequence, or return a permuted range. If x is a multi-dimensional array, it is only shuffled along its first index\". [5]\n",
    "\n",
    "When similar code is used below to produce an array with 5 evenly spaced values and the permutation function is applied, the output produces the same result every time the code is run. The output doesn't change because the permutation function doesn't change the element order within an array. "
   ]
  },
  {
   "cell_type": "code",
   "execution_count": 31,
   "metadata": {},
   "outputs": [
    {
     "data": {
      "text/plain": [
       "array([0, 1, 2, 3, 4])"
      ]
     },
     "execution_count": 31,
     "metadata": {},
     "output_type": "execute_result"
    }
   ],
   "source": [
    "import numpy as np\n",
    "x = np.arange(5)\n",
    "np.random.permutation(x)\n",
    "x"
   ]
  },
  {
   "cell_type": "markdown",
   "metadata": {},
   "source": [
    "Where the permutation function is useful is when you want to shuffle the order of arrays without making changes to the elements within the arrays. In the code below 16 evenly spaced values are produces (ie. 0,1,2....14,15), the reshape function (ie. **reshape((4, 4))** in the code below ) allows the values to be displayed in 4 arrays with 4 values in each. The first four values 0-3 make up an array, the next four values of 4-7 make up another array etc. (ie. [0,1,2,3],[4,5,6,7],[8,9,10,11],[12,13,14,15]). When the **np.random.permutation** code is run the 4 arrays are shuffled in order but values within each array do not change in oder. So the permutation function allow you to shuffle arrays without changing their contents in any way. "
   ]
  },
  {
   "cell_type": "code",
   "execution_count": 22,
   "metadata": {},
   "outputs": [
    {
     "data": {
      "text/plain": [
       "array([[ 0,  1,  2,  3],\n",
       "       [ 4,  5,  6,  7],\n",
       "       [ 8,  9, 10, 11],\n",
       "       [12, 13, 14, 15]])"
      ]
     },
     "execution_count": 22,
     "metadata": {},
     "output_type": "execute_result"
    }
   ],
   "source": [
    "import numpy as np\n",
    "x = np.arange(16).reshape((4, 4))\n",
    "np.random.permutation(x)\n",
    "x"
   ]
  },
  {
   "cell_type": "markdown",
   "metadata": {},
   "source": [
    "# 5. Use & Purpose of Five Distribution types in NumPy.Random"
   ]
  },
  {
   "cell_type": "markdown",
   "metadata": {},
   "source": [
    "There are various distribution types which can be utilised within the NumPy.Random package. The image below briefly outlines each distrubution. In the short project I will examine five of the distributions.\n"
   ]
  },
  {
   "cell_type": "markdown",
   "metadata": {},
   "source": [
    "\n",
    "<img src=\"Numpy.Random Distributions.jpg\">\n"
   ]
  },
  {
   "cell_type": "markdown",
   "metadata": {},
   "source": [
    "**1. Normal Distribution**"
   ]
  },
  {
   "cell_type": "markdown",
   "metadata": {},
   "source": [
    "\n",
    "\n",
    "In 1809, the **Normal Distribution (or Gaussian or Gauss or Laplace–Gauss)** was discovered by **Carl Friedrich Gauss** a German mathematician and physicist, although contributions were also made by French mathematician **Pierre-Simon Laplace**, hence the name variation.\n",
    "\n",
    "“In probability theory, the normal distribution is a very common continual probability distribution. Normal distributions are important in statistics and are often used in the natural and social sciences to represent real-valued random variables whose distributions are not known. A random variable with a Gaussian distribution is said to be normally distributed … The normal distribution is useful because of the central limit theorem. In its most general form, under some conditions, it states that averages of samples of observations of random variables  independently drawn from the same distribution converge in distribution to the normal, that is, they become normally distributed when the number of observations is sufficiently large.” [6.Wikipedia]\n",
    "\n",
    "Some of the characteristics:\n",
    "-\tHas a single peak because most values occur in the middle (ie. near the mean)\n",
    "-\tBell-Shaped\n",
    "-\tsymmetric (ie. draw a line at the mean and left/right sides look the same)\n",
    "\n",
    "A normal distribution is defined by two things the mean and the standard deviation. The mean is the central point or midpoint of the distribution. Whereas the standard deviation outlines how widespread the distribution is.\n"
   ]
  },
  {
   "cell_type": "markdown",
   "metadata": {},
   "source": [
    "**Image and Equation:**\n",
    "\n",
    "\n",
    "\"The Normal Equation. The value of the random variable Y is:\n",
    "\n",
    "Y = { 1/[ σ * sqrt(2π) ] } * e-(x - μ)2/2σ2\n",
    "\n",
    "where X is a normal random variable, μ is the mean, σ is the standard deviation, π is approximately 3.14159, and e is approximately 2.71828.\" [7]\n",
    "\n"
   ]
  },
  {
   "cell_type": "code",
   "execution_count": 9,
   "metadata": {},
   "outputs": [
    {
     "data": {
      "text/plain": [
       "<function matplotlib.pyplot.show(*args, **kw)>"
      ]
     },
     "execution_count": 9,
     "metadata": {},
     "output_type": "execute_result"
    },
    {
     "data": {
      "image/png": "[encoded data removed]",
      "text/plain": [
       "<Figure size 432x288 with 1 Axes>"
      ]
     },
     "metadata": {
      "needs_background": "light"
     },
     "output_type": "display_data"
    }
   ],
   "source": [
    "import numpy as np\n",
    "x = np.random.normal(loc=0, scale=1, size=1000)\n",
    "import matplotlib.pyplot as plt\n",
    "plt.hist(x)\n",
    "plt.show"
   ]
  },
  {
   "cell_type": "markdown",
   "metadata": {},
   "source": [
    "**2. Uniform Distribution**"
   ]
  },
  {
   "cell_type": "markdown",
   "metadata": {},
   "source": [
    "\n",
    "A uniform distribution is a type of probability distribution in which all outcomes are equally likely hence the name 'uniform'. Each variable has the same probability that it will be the outcome. An example would be a coin toss because there  is an equal probability of getting a head or tail, similarly with a deck of playing cards the probability of drawing a heart, club, spade or diamond is equally likely. Rolling a dice is an example of a discrete uniform distribution (ie. you can roll any of the 6 numbers but not a 1.5 or 3.2). Continuous uniform distribution would have infinite possible outcomes for example a random number generator.\n",
    "\n",
    "Some Characteristics of Uniform Distribution:\n",
    "- Rectangular in shape \n",
    "- each value of the random variable is equally likely to occur\n",
    "- has a min/mix value\n",
    "- mean = (min + max)/2\n",
    "\n",
    "\n",
    "\n"
   ]
  },
  {
   "cell_type": "markdown",
   "metadata": {},
   "source": [
    "Some code is used below to import numpy and matplotlib, generate 10,000 random numbers and to create a variable called **'x'**. The **np.random.rand()** function is applied which generates 10,000 random numbers between zero (inclusive) and 1 (exclusive). A histogram is displayed using matplotlib to illustrate the results and the outcomes clearly follow a uniform distribution(continuous)."
   ]
  },
  {
   "cell_type": "code",
   "execution_count": 2,
   "metadata": {},
   "outputs": [],
   "source": [
    "import numpy as np\n"
   ]
  },
  {
   "cell_type": "code",
   "execution_count": 4,
   "metadata": {},
   "outputs": [
    {
     "data": {
      "text/plain": [
       "array([0.54002538, 0.7736467 , 0.94086061, ..., 0.33963203, 0.23679886,\n",
       "       0.32502625])"
      ]
     },
     "execution_count": 4,
     "metadata": {},
     "output_type": "execute_result"
    }
   ],
   "source": [
    "x = np.random.rand(10000)\n",
    "x"
   ]
  },
  {
   "cell_type": "code",
   "execution_count": 8,
   "metadata": {},
   "outputs": [
    {
     "data": {
      "image/png": "[encoded data removed]",
      "text/plain": [
       "<Figure size 432x288 with 1 Axes>"
      ]
     },
     "metadata": {
      "needs_background": "light"
     },
     "output_type": "display_data"
    }
   ],
   "source": [
    "import matplotlib.pyplot as plt\n",
    "\n",
    "plt.hist(x)\n",
    "plt.show()"
   ]
  },
  {
   "cell_type": "markdown",
   "metadata": {},
   "source": [
    "**3. Binomial Distribution**"
   ]
  },
  {
   "cell_type": "markdown",
   "metadata": {},
   "source": [
    "A Binomial distribution can be described as a distribution where there are only two possible outcomes (ie. success or failure) and where there is an equal probability of success and failure for all the independent trials carried out. "
   ]
  },
  {
   "cell_type": "markdown",
   "metadata": {},
   "source": [
    "Some Characteristics of a Binomial Distribution:\n",
    "- All the trials are independent\n",
    "- Only two possible outcomes (success or fail)\n",
    "- There’s an equal probability of a success and a failure for all the identical trials conducted.\n",
    "\n",
    "Code:\n",
    "In the code below if a coin tossing experiment of size 1000 is conducted, what's the chances that 500 heads (successes) occur? Given that the trial\n"
   ]
  },
  {
   "cell_type": "code",
   "execution_count": 7,
   "metadata": {},
   "outputs": [
    {
     "data": {
      "image/png": "[encoded data removed]",
      "text/plain": [
       "<Figure size 432x288 with 1 Axes>"
      ]
     },
     "metadata": {
      "needs_background": "light"
     },
     "output_type": "display_data"
    }
   ],
   "source": [
    "import numpy as np\n",
    "n = 500  #number of trials\n",
    "p = 0.5    # probability of success\n",
    "x = np.random.binomial(n, p, 1000)   # size of 1000 here indicates the number of times the experiment is run\n",
    "x\n",
    "# If a coin is tosses 500(n=500) times with even probability(p=0.5) of success(heads) and this experiment is repeated 1000 times.\n",
    "# How many of the 500 coin flips result in heads? All outputs are close to 50% (ie.half of 500) as expected.\n",
    "# Plot displayed below looks bell shaped.\n",
    "\n",
    "import matplotlib.pyplot as plt\n",
    "plt.hist(x)\n",
    "plt.show()"
   ]
  },
  {
   "cell_type": "code",
   "execution_count": 9,
   "metadata": {},
   "outputs": [
    {
     "data": {
      "text/plain": [
       "Text(0, 0.5, 'Frequency')"
      ]
     },
     "execution_count": 9,
     "metadata": {},
     "output_type": "execute_result"
    },
    {
     "data": {
      "image/png": "[encoded data removed]",
      "text/plain": [
       "<Figure size 1008x504 with 1 Axes>"
      ]
     },
     "metadata": {
      "needs_background": "light"
     },
     "output_type": "display_data"
    }
   ],
   "source": [
    "# Code from website: [8]https://towardsdatascience.com/fun-with-the-binomial-distribution-96a5ecabf65b accessed 10/Nov/2019\n",
    "# Import libraries\n",
    "import numpy as np\n",
    "import matplotlib.pyplot as plt\n",
    "import seaborn as sns\n",
    "# Input variables\n",
    "# Number of trials\n",
    "trials = 1000\n",
    "# Number of independent experiments in each trial\n",
    "n = 10\n",
    "# Probability of success for each experiment\n",
    "p = 0.5\n",
    "# Function that runs our coin toss trials\n",
    "# heads is a list of the number of successes from each trial of n experiments\n",
    "def run_binom(trials, n, p):\n",
    "    heads = []\n",
    "    for i in range(trials):\n",
    "        tosses = [np.random.random() for i in range(n)]\n",
    "        heads.append(len([i for i in tosses if i>=0.50]))\n",
    "    return heads\n",
    "# Run the function\n",
    "heads = run_binom(trials, n, p)\n",
    "# Plot the results as a histogram\n",
    "fig, ax = plt.subplots(figsize=(14,7))\n",
    "ax = sns.distplot(heads, bins=11, label='simulation results')\n",
    "ax.set_xlabel(\"Number of Heads\",fontsize=16)\n",
    "ax.set_ylabel(\"Frequency\",fontsize=16)"
   ]
  },
  {
   "cell_type": "markdown",
   "metadata": {},
   "source": [
    "**4. Poisson Distribution**"
   ]
  },
  {
   "cell_type": "markdown",
   "metadata": {},
   "source": [
    "The Poisson distribution which is named after French mathematician Siméon Denis Poisson is a discrete probability distribution which shows how often an event is likely to occur within a specified time interval, for example many vehicles pass along a road in 60 minutes or how many hits a website get in 60 minutes. So this distribution could answer a question for an engineer like, \"What's the probability that 1,000 vehicles will travel on a particular road over a 60 minute interval?\"\n",
    "\n",
    " \n",
    "Some Assumptions of the Poisson Distribution:\n",
    "\n",
    "- time interval is fixed\n",
    "- events occur independently\n",
    "- the probability of an event occurring in a specified intervel doesn't change through time\n"
   ]
  },
  {
   "cell_type": "markdown",
   "metadata": {},
   "source": [
    "\n",
    "**Poisson Formula** Wikipedia[9]:\n",
    "\n",
    "<img src=\"PoissonFormula.png.\">\n",
    "    \n",
    "    "
   ]
  },
  {
   "cell_type": "code",
   "execution_count": 12,
   "metadata": {},
   "outputs": [
    {
     "data": {
      "image/png": "[encoded data removed]",
      "text/plain": [
       "<Figure size 432x288 with 1 Axes>"
      ]
     },
     "metadata": {
      "needs_background": "light"
     },
     "output_type": "display_data"
    }
   ],
   "source": [
    "# import necessary libraries\n",
    "import numpy as np\n",
    "import matplotlib.pyplot as plt\n",
    "\n",
    "s = np.random.poisson(5, 1000)\n",
    "s\n",
    "\n",
    "count, bins, ignored = plt.hist(s, 14, density=True)\n",
    "plt.show()"
   ]
  },
  {
   "cell_type": "markdown",
   "metadata": {},
   "source": [
    "# 6. Use of Seeds in generating Pseudorandom Numbers\n",
    "\n",
    "“The NumPy random choice function operates on the principle of pseudorandom number generation. When we use a pseudorandom number generator, the numbers in the output approximate random numbers, but are not exactly ‘random’. In fact, when we use pseudorandom numbers, the output is actually deterministic; the output is actually determined by an initializing value called a ‘seed’. Let me say that again: when we set a seed for a pseudorandom number generator, the output is completely determined by the seed. What that means is that if we use the same seed, a pseudorandom number generator will produce the same output.”[3]\n",
    "\n",
    "In simple terms:\n",
    "'Pseudo' is essentially another word for 'false' so when you read the term 'pseudonumbers' you wouldn't be wrong in thinking it's not fully random number. Pseudonumbers are in fact computer generated numbers and computers are designed to be deterministic not random in that if you input a command into a computer then you will receive an output or result, if you input the same command you'd expect the same result..right? Not a completely random result each time. Essentially, computers use algorithms to generate random numbers and because they are deterministic it's possible to reproduce or repeat them using seeds.\n",
    "\n",
    "Why use seeds?\n",
    "- Forums like Github etc. are commonly used for data scientists and analysts to share code and learn from each other. Using seeds in your code makes it repeatable and essentially easier to share with others. \n",
    "- Useful in machine learning\n"
   ]
  },
  {
   "cell_type": "code",
   "execution_count": 4,
   "metadata": {},
   "outputs": [
    {
     "data": {
      "text/plain": [
       "array([5, 8, 9])"
      ]
     },
     "execution_count": 4,
     "metadata": {},
     "output_type": "execute_result"
    }
   ],
   "source": [
    "# import numpy library\n",
    "import numpy as np\n",
    "np.random.seed(1)\n",
    "#Shape can be altered to generate a required array ...Here an array of 3 random integers between 0 and 9 are genereted.\n",
    "np.random.randint(0, 10, 3)"
   ]
  },
  {
   "cell_type": "code",
   "execution_count": 5,
   "metadata": {},
   "outputs": [
    {
     "data": {
      "text/plain": [
       "array([5, 8, 9])"
      ]
     },
     "execution_count": 5,
     "metadata": {},
     "output_type": "execute_result"
    }
   ],
   "source": [
    "#REPEAT ABOVE CODE AND SEE RESULT DISPLAYED IS THE SAME\n",
    "# import numpy library\n",
    "import numpy as np\n",
    "np.random.seed(1)\n",
    "#Shape can be altered to generate a required array ...Here an array of 3 random integers between 0 and 9 are genereted.\n",
    "np.random.randint(0, 10, 3)"
   ]
  },
  {
   "cell_type": "markdown",
   "metadata": {},
   "source": [
    "# 7.Conclusion"
   ]
  },
  {
   "cell_type": "markdown",
   "metadata": {},
   "source": [
    "# _8. References/Biblography_\n",
    "\n",
    "[1] https://docs.scipy.org/doc/numpy-1.15.0/user/whatisnumpy.html accessed 1/Nov/2019\n",
    "\n",
    "[2] https://www.sharpsightlabs.com/blog/numpy-random-choice/ accessed 4/Nov/2019\n",
    "\n",
    "[3] https://www.sharpsightlabs.com/blog/numpy-random-seed/ accessed 6/Nov/2019\n",
    "\n",
    "[4] https://docs.scipy.org/doc/numpy-1.15.0/reference/generated/numpy.random.shuffle.html#numpy.random.shuffle accessed 9/Nov/2019\n",
    "\n",
    "[5] https://docs.scipy.org/doc/numpy-1.15.0/reference/generated/numpy.random.permutation.html#numpy.random.permutation accessed 9/Nov/2019\n",
    "\n",
    "[6] https://en.wikipedia.org/wiki/Normal_distribution accessed 9/Nov/2019\n",
    "\n",
    "[7] https://stattrek.com/probability-distributions/normal.aspx accessed 9/Nov/2019\n",
    "\n",
    "[8] https://towardsdatascience.com/fun-with-the-binomial-distribution-96a5ecabf65b accessed 10/Nov/2019\n",
    "\n",
    "[9] https://en.wikipedia.org/wiki/Poisson_distribution#Assumptions_and_validity accessed 10/Nov/2019\n",
    "\n",
    "\n",
    "[10] https://docs.scipy.org/doc/numpy-1.15.0/reference/routines.random.html \n",
    "\n",
    "[11] https://docs.scipy.org/doc/numpy-1.15.0/reference/generated/numpy.random.rand.html#numpy.random.rand\n",
    "\n",
    "[12] https://docs.scipy.org/doc/numpy-1.15.0/reference/generated/numpy.random.randn.html#numpy.random.randn\n",
    "\n",
    "[13] \n",
    "\n",
    "\n",
    "https://www.sharpsightlabs.com/blog/numpy-random-seed/\n"
   ]
  },
  {
   "cell_type": "code",
   "execution_count": 3,
   "metadata": {},
   "outputs": [
    {
     "data": {
      "text/plain": [
       "4"
      ]
     },
     "execution_count": 3,
     "metadata": {},
     "output_type": "execute_result"
    }
   ],
   "source": [
    "#import numpy library\n",
    "import numpy as np\n",
    "#generate psuedorandoms using seed\n",
    "np.random.seed(1)\n",
    "np.random.randint(3,5)\n"
   ]
  },
  {
   "cell_type": "code",
   "execution_count": null,
   "metadata": {},
   "outputs": [],
   "source": []
  },
  {
   "cell_type": "code",
   "execution_count": null,
   "metadata": {},
   "outputs": [],
   "source": []
  }
 ],
 "metadata": {
  "kernelspec": {
   "display_name": "Python 3",
   "language": "python",
   "name": "python3"
  },
  "language_info": {
   "codemirror_mode": {
    "name": "ipython",
    "version": 3
   },
   "file_extension": ".py",
   "mimetype": "text/x-python",
   "name": "python",
   "nbconvert_exporter": "python",
   "pygments_lexer": "ipython3",
   "version": "3.7.1"
  }
 },
 "nbformat": 4,
 "nbformat_minor": 2
}
