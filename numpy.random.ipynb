{
 "cells": [
  {
   "cell_type": "markdown",
   "metadata": {},
   "source": [
    "# **_Edel Corcoran ID #:G00010824_**\n",
    "# **_GMIT: Higher Diploma in Data Analytics_**\n",
    "# **_Module 52465: Programming for Data Analytics_**\n",
    "# **_Assignment: NumPy.Random Package_**"
   ]
  },
  {
   "cell_type": "markdown",
   "metadata": {},
   "source": [
    "# Introduction & Project Layout\n",
    "\n",
    "The primary focus of this project is to  research the numpy.random package, to explain it's overall purpose and analyse in detail at least five of the distributions within the package and also to investigate the use of both the \"Simple Random Data\" and \"Permutation\" functions. Finally the project will outline how numpy.random uses seeds in generating psuedorandom numbers. \n",
    "\n",
    "The project layout\n",
    "1. What is the numpy.random package\n",
    "2. What is the overall purpose of the package\n",
    "3. Explanation of the \"Simple Random Data\" function\n",
    "4. Explanation of the \"Permutation\" function\n",
    "5. Use/Purpose of 5 distributions functions of numpy.random\n",
    "6. Use of seeds in generating pseudorandom numbers\n",
    "7. Summary\n",
    "8. References/Biblography\n"
   ]
  },
  {
   "cell_type": "markdown",
   "metadata": {},
   "source": [
    "# _1. What is numpy.random?_\n",
    "\n",
    "\"NumPy is the fundamental package for scientific computing in Python. It is a Python library that provides a multidimensional array object, various derived objects (such as masked arrays and matrices), and an assortment of routines for fast operations on arrays, including mathematical, logical, shape manipulation, sorting, selecting, I/O, discrete Fourier transforms, basic linear algebra, basic statistical operations, random simulation and much more.\" [1]\n",
    "\n",
    "Essentially numpy is good and quick at dealing with numbers in big lists or matrices in python. If you need to deal with numbers you could write some code in python however numpy is simply a far more efficient way for you to deal with number lists or matrices in python. This specialist package deals with multi-dimensional arrays (ie. lists within lists) and it likes them to have a rectangular so two dimensionals lists each row/column having the same number of elements.  \n",
    "\n",
    "Numpy.random is a sub-package of the NumPy package in python. \n",
    "\n",
    "Further information on the functions, permutations, distributions and random generator available within the numpy.random package is available on the website below:\n",
    "\n",
    "https://docs.scipy.org/doc/numpy-1.15.0/reference/routines.random.html\n"
   ]
  },
  {
   "cell_type": "markdown",
   "metadata": {},
   "source": [
    "# _2. Purpose of the package_\n",
    "\n",
    "\"NumPy is a data manipulation module for Python. Specifically, the tools from NumPy operate on arrays of numbers … i.e., numeric data. Because NumPy functions operate on numbers, they are especially useful for data science, statistics, and machine learning\".[2]\n",
    "\n",
    "It's a specialise package which help users to efficiently deal with lists of numbers or matrices in python. It's important for the simple reason that matrice operations are commonly utilised in computers and computer screens. Some tasks which require matrice operations are:\n",
    "\n",
    "- resizing photographs\n",
    "- compressing images or songs down to a particular size\n",
    "- doing anything scientific on a computer\n",
    "\n"
   ]
  },
  {
   "cell_type": "markdown",
   "metadata": {},
   "source": [
    "# 3. Permutations\n",
    "\n"
   ]
  },
  {
   "cell_type": "markdown",
   "metadata": {},
   "source": [
    "**Shuffle**\n",
    "\n",
    "\"Modify a sequence in-place by shuffling its contents.This function only shuffles the array along the first axis of a multi-dimensional array. The order of sub-arrays is changed but their contents remains the same.\"[4]\n",
    "\n",
    "The NumPy **arange** function will produce an array with evenly spaced numerical values within a given range. In the example below an array with five values is produced from 0  to 4.\n"
   ]
  },
  {
   "cell_type": "code",
   "execution_count": 35,
   "metadata": {},
   "outputs": [
    {
     "data": {
      "text/plain": [
       "array([0, 1, 2, 3, 4])"
      ]
     },
     "execution_count": 35,
     "metadata": {},
     "output_type": "execute_result"
    }
   ],
   "source": [
    "import numpy as np\n",
    "array = np.arange(5)\n",
    "array"
   ]
  },
  {
   "cell_type": "markdown",
   "metadata": {},
   "source": [
    "When the shuffle function (ie. **np.random.shuffle** in the code below) is applied the 5 element array above is shuffled. The same five values are produced but now they are shuffled and appear in a different order as seen below:"
   ]
  },
  {
   "cell_type": "code",
   "execution_count": 37,
   "metadata": {},
   "outputs": [
    {
     "data": {
      "text/plain": [
       "array([3, 0, 1, 2, 4])"
      ]
     },
     "execution_count": 37,
     "metadata": {},
     "output_type": "execute_result"
    }
   ],
   "source": [
    "import numpy as np\n",
    "x = np.arange(5)\n",
    "np.random.shuffle(x)\n",
    "x"
   ]
  },
  {
   "cell_type": "markdown",
   "metadata": {},
   "source": [
    "**Permutation**\n",
    "\n",
    "\"Randomly permute a sequence, or return a permuted range. If x is a multi-dimensional array, it is only shuffled along its first index\". [5]\n",
    "\n",
    "When similar code is used below to produce an array with 5 evenly spaced values and the permutation function is applied, the output produces the same result every time the code is run. The output doesn't change because the permutation function doesn't change the element order within an array. "
   ]
  },
  {
   "cell_type": "code",
   "execution_count": 31,
   "metadata": {},
   "outputs": [
    {
     "data": {
      "text/plain": [
       "array([0, 1, 2, 3, 4])"
      ]
     },
     "execution_count": 31,
     "metadata": {},
     "output_type": "execute_result"
    }
   ],
   "source": [
    "import numpy as np\n",
    "x = np.arange(5)\n",
    "np.random.permutation(x)\n",
    "x"
   ]
  },
  {
   "cell_type": "markdown",
   "metadata": {},
   "source": [
    "Where the permutation function is useful is when you want to shuffle the order of arrays without making changes to the elements within the arrays. In the code below 16 evenly spaced values are produces (ie. 0,1,2....14,15), the reshape function (ie. **reshape((4, 4))** in the code below ) allows the values to be displayed in 4 arrays with 4 values in each. The first four values 0-3 make up an array, the next four values of 4-7 make up another array etc. (ie. [0,1,2,3],[4,5,6,7],[8,9,10,11],[12,13,14,15]). When the **np.random.permutation** code is run the 4 arrays are shuffled in order but values within each array do not change in oder. So the permutation function allow you to shuffle arrays without changing their contents in any way. "
   ]
  },
  {
   "cell_type": "code",
   "execution_count": 22,
   "metadata": {},
   "outputs": [
    {
     "data": {
      "text/plain": [
       "array([[ 0,  1,  2,  3],\n",
       "       [ 4,  5,  6,  7],\n",
       "       [ 8,  9, 10, 11],\n",
       "       [12, 13, 14, 15]])"
      ]
     },
     "execution_count": 22,
     "metadata": {},
     "output_type": "execute_result"
    }
   ],
   "source": [
    "import numpy as np\n",
    "x = np.arange(16).reshape((4, 4))\n",
    "np.random.permutation(x)\n",
    "x"
   ]
  },
  {
   "cell_type": "markdown",
   "metadata": {},
   "source": [
    "# 5. Use & Purpose of 5 Distribution types in NumPy.Random"
   ]
  },
  {
   "cell_type": "markdown",
   "metadata": {},
   "source": [
    "There are various distribution types which can be utilised within the NumPy.Random package. The image below briefly outlines each distrubution. In the short project I will examine five of the distributions.\n"
   ]
  },
  {
   "cell_type": "markdown",
   "metadata": {},
   "source": [
    "\n",
    "<img src=\"Numpy.Random Distributions.jpg\">\n"
   ]
  },
  {
   "cell_type": "markdown",
   "metadata": {},
   "source": [
    "**Normal Distribution**"
   ]
  },
  {
   "cell_type": "markdown",
   "metadata": {},
   "source": [
    "\n",
    "\n",
    "In 1809, the **Normal Distribution (or Gaussian or Gauss or Laplace–Gauss)** was discovered by **Carl Friedrich Gauss** a German mathematician and physicist, although contributions were also made by French mathematician **Pierre-Simon Laplace**, hence the name variation.\n",
    "\n",
    "“In probability theory, the normal distribution is a very common continual probability distribution. Normal distributions are important in statistics and are often used in the natural and social sciences to represent real-valued random variables whose distributions are not known. A random variable with a Gaussian distribution is said to be normally distributed … The normal distribution is useful because of the central limit theorem. In its most general form, under some conditions, it states that averages of samples of observations of random variables  independently drawn from the same distribution converge in distribution to the normal, that is, they become normally distributed when the number of observations is sufficiently large.” [6.Wikipedia]\n",
    "\n",
    "Some of the characteristics:\n",
    "-\tHas a single peak because most values occur in the middle (ie. near the mean)\n",
    "-\tBell-Shaped\n",
    "-\tsymmetric (ie. draw a line at the mean and left/right sides look the same)\n",
    "\n",
    "A normal distribution is defined by two things the mean and the standard deviation. The mean is the central point or midpoint of the distribution. Whereas the standard deviation outlines how widespread the distribution is.\n"
   ]
  },
  {
   "cell_type": "markdown",
   "metadata": {},
   "source": [
    "**Image and Equation:**\n",
    "\n",
    "\n",
    "\"The Normal Equation. The value of the random variable Y is:\n",
    "\n",
    "Y = { 1/[ σ * sqrt(2π) ] } * e-(x - μ)2/2σ2\n",
    "\n",
    "where X is a normal random variable, μ is the mean, σ is the standard deviation, π is approximately 3.14159, and e is approximately 2.71828.\" [7]\n",
    "\n"
   ]
  },
  {
   "cell_type": "code",
   "execution_count": 9,
   "metadata": {},
   "outputs": [
    {
     "data": {
      "text/plain": [
       "<function matplotlib.pyplot.show(*args, **kw)>"
      ]
     },
     "execution_count": 9,
     "metadata": {},
     "output_type": "execute_result"
    },
    {
     "data": {
      "image/png": "[encoded data removed]",
      "text/plain": [
       "<Figure size 432x288 with 1 Axes>"
      ]
     },
     "metadata": {
      "needs_background": "light"
     },
     "output_type": "display_data"
    }
   ],
   "source": [
    "import numpy as np\n",
    "x = np.random.normal(loc=0, scale=1, size=1000)\n",
    "import matplotlib.pyplot as plt\n",
    "plt.hist(x)\n",
    "plt.show"
   ]
  },
  {
   "cell_type": "markdown",
   "metadata": {},
   "source": [
    "**Uniform Distribution**"
   ]
  },
  {
   "cell_type": "markdown",
   "metadata": {},
   "source": [
    "\n",
    "A uniform distribution is a type of probability distribution in which all outcomes are equally likely hence the name 'uniform'. Each variable has the same probability that it will be the outcome. An example would be a coin toss because there  is an equal probability of getting a head or tail, similarly with a deck of playing cards the probability of drawing a heart, club, spade or diamond is equally likely. Rolling a dice is an example of a discrete uniform distribution (ie. you can roll any of the 6 numbers but not a 1.5 or 3.2). Continuous uniform distribution would have infinite possible outcomes for example a random number generator.\n",
    "\n",
    "Some Characteristics of Uniform Distribution:\n",
    "- Rectangular in shape \n",
    "- each value of the random variable is equally likely to occur\n",
    "- has a min/mix value\n",
    "- mean = (min + max)/2\n",
    "\n",
    "\n",
    "\n"
   ]
  },
  {
   "cell_type": "markdown",
   "metadata": {},
   "source": [
    "Some code is used below to import numpy and matplotlib, generate 10,000 random numbers and to create a variable called **'x'**. The **np.random.rand()** function is applied which generates 10,000 random numbers between zero (inclusive) and 1 (exclusive). A histogram is displayed using matplotlib to illustrate the results and the outcomes clearly follow a uniform distribution(continuous)."
   ]
  },
  {
   "cell_type": "code",
   "execution_count": 2,
   "metadata": {},
   "outputs": [],
   "source": [
    "import numpy as np\n"
   ]
  },
  {
   "cell_type": "code",
   "execution_count": 4,
   "metadata": {},
   "outputs": [
    {
     "data": {
      "text/plain": [
       "array([0.54002538, 0.7736467 , 0.94086061, ..., 0.33963203, 0.23679886,\n",
       "       0.32502625])"
      ]
     },
     "execution_count": 4,
     "metadata": {},
     "output_type": "execute_result"
    }
   ],
   "source": [
    "x = np.random.rand(10000)\n",
    "x"
   ]
  },
  {
   "cell_type": "code",
   "execution_count": 8,
   "metadata": {},
   "outputs": [
    {
     "data": {
      "image/png": "[encoded data removed]",
      "text/plain": [
       "<Figure size 432x288 with 1 Axes>"
      ]
     },
     "metadata": {
      "needs_background": "light"
     },
     "output_type": "display_data"
    }
   ],
   "source": [
    "import matplotlib.pyplot as plt\n",
    "\n",
    "plt.hist(x)\n",
    "plt.show()"
   ]
  },
  {
   "cell_type": "markdown",
   "metadata": {},
   "source": [
    "**Binomial Distribution**"
   ]
  },
  {
   "cell_type": "markdown",
   "metadata": {},
   "source": [
    "A Binomial distribution can be described as a distribution where there are only two possible outcomes (ie. success or failure) and where there is an equal probability of success and failure for all the independent trials carried out. "
   ]
  },
  {
   "cell_type": "markdown",
   "metadata": {},
   "source": [
    "Some Characteristics of a Binomial Distribution:\n",
    "- All the trials are independent\n",
    "- Only two possible outcomes (success or fail)\n",
    "- There’s an equal probability of a success and a failure for all the identical trials conducted.\n"
   ]
  },
  {
   "cell_type": "code",
   "execution_count": 25,
   "metadata": {},
   "outputs": [
    {
     "data": {
      "text/plain": [
       "array([247, 245, 249, 244, 241, 251, 265, 248, 246, 262, 252, 259, 255,\n",
       "       243, 234, 269, 238, 246, 242, 224, 218, 236, 256, 247, 239, 236,\n",
       "       256, 251, 264, 243, 230, 252, 259, 242, 261, 259, 248, 240, 264,\n",
       "       251, 240, 235, 246, 245, 223, 235, 238, 245, 244, 239, 255, 242,\n",
       "       227, 251, 257, 239, 233, 262, 242, 270, 259, 254, 244, 259, 261,\n",
       "       253, 258, 249, 246, 261, 264, 239, 242, 252, 245, 244, 241, 252,\n",
       "       254, 259, 254, 261, 247, 236, 257, 260, 234, 227, 258, 259, 249,\n",
       "       246, 239, 253, 263, 257, 249, 257, 251, 225, 233, 266, 261, 252,\n",
       "       248, 252, 253, 252, 256, 246, 265, 252, 266, 255, 260, 247, 228,\n",
       "       235, 261, 225, 246, 259, 247, 230, 260, 231, 245, 258, 268, 243,\n",
       "       231, 271, 235, 265, 257, 237, 244, 258, 253, 249, 246, 246, 259,\n",
       "       272, 246, 248, 252, 250, 267, 247, 255, 246, 250, 261, 267, 251,\n",
       "       242, 250, 249, 233, 250, 254, 265, 250, 233, 268, 242, 249, 244,\n",
       "       252, 254, 260, 238, 246, 265, 261, 250, 252, 256, 256, 253, 255,\n",
       "       265, 239, 248, 235, 236, 229, 260, 243, 237, 244, 252, 252, 258,\n",
       "       262, 246, 259, 264, 267, 255, 260, 267, 264, 265, 239, 246, 240,\n",
       "       248, 262, 261, 269, 240, 262, 261, 244, 244, 240, 253, 237, 254,\n",
       "       248, 245, 255, 247, 276, 238, 256, 255, 264, 239, 258, 256, 229,\n",
       "       263, 251, 240, 266, 236, 238, 251, 241, 234, 248, 236, 244, 248,\n",
       "       260, 243, 264, 251, 244, 233, 247, 250, 258, 242, 228, 251, 259,\n",
       "       232, 245, 238, 259, 260, 231, 261, 245, 250, 247, 254, 247, 243,\n",
       "       275, 248, 258, 223, 250, 259, 255, 247, 243, 248, 267, 259, 238,\n",
       "       244, 265, 250, 249, 253, 260, 258, 239, 263, 239, 236, 262, 256,\n",
       "       255, 260, 230, 229, 280, 258, 251, 249, 241, 246, 235, 233, 240,\n",
       "       233, 231, 243, 254, 237, 257, 249, 265, 260, 234, 260, 269, 264,\n",
       "       276, 249, 250, 252, 261, 253, 260, 255, 258, 259, 256, 251, 252,\n",
       "       233, 251, 240, 248, 238, 259, 253, 247, 259, 243, 248, 261, 231,\n",
       "       256, 244, 259, 272, 261, 253, 237, 247, 254, 237, 243, 241, 233,\n",
       "       255, 239, 257, 255, 242, 257, 241, 250, 264, 238, 250, 242, 245,\n",
       "       249, 276, 232, 253, 254, 250, 257, 254, 265, 244, 248, 253, 255,\n",
       "       262, 246, 269, 260, 245, 250, 250, 241, 262, 265, 263, 255, 259,\n",
       "       247, 253, 260, 248, 235, 265, 256, 254, 259, 262, 255, 245, 249,\n",
       "       270, 236, 247, 246, 252, 248, 261, 244, 249, 261, 235, 246, 267,\n",
       "       244, 252, 241, 250, 251, 255, 243, 245, 248, 251, 233, 234, 250,\n",
       "       238, 237, 251, 240, 245, 241, 252, 246, 222, 252, 251, 267, 268,\n",
       "       238, 244, 233, 248, 252, 255, 248, 247, 244, 254, 251, 234, 249,\n",
       "       245, 256, 243, 239, 245, 237, 235, 229, 253, 264, 259, 266, 261,\n",
       "       236, 237, 239, 264, 243, 257, 252, 229, 254, 254, 235, 257, 254,\n",
       "       263, 255, 270, 249, 252, 246, 249, 237, 258, 238, 275, 254, 252,\n",
       "       250, 258, 257, 237, 252, 244, 252, 269, 247, 237, 259, 256, 254,\n",
       "       243, 277, 239, 257, 252, 239, 262, 265, 247, 240, 256, 249, 245,\n",
       "       262, 262, 238, 223, 228, 265, 232, 239, 244, 246, 229, 240, 248,\n",
       "       248, 254, 240, 248, 239, 262, 249, 256, 233, 232, 236, 253, 225,\n",
       "       257, 243, 256, 256, 257, 247, 237, 249, 239, 258, 253, 252, 254,\n",
       "       253, 252, 253, 243, 276, 238, 243, 255, 252, 255, 234, 264, 247,\n",
       "       248, 256, 242, 244, 240, 254, 235, 265, 271, 225, 219, 262, 229,\n",
       "       240, 240, 263, 251, 248, 254, 259, 230, 235, 254, 248, 236, 230,\n",
       "       261, 253, 261, 255, 259, 228, 260, 257, 266, 240, 234, 261, 262,\n",
       "       244, 255, 253, 257, 264, 249, 243, 261, 233, 250, 251, 236, 238,\n",
       "       224, 262, 241, 250, 245, 266, 238, 238, 257, 260, 253, 261, 237,\n",
       "       255, 250, 246, 256, 244, 243, 238, 254, 232, 264, 258, 239, 249,\n",
       "       240, 238, 253, 246, 264, 263, 260, 252, 246, 268, 245, 253, 262,\n",
       "       265, 227, 247, 256, 256, 248, 247, 258, 262, 252, 234, 243, 273,\n",
       "       246, 244, 256, 241, 279, 240, 244, 251, 255, 241, 211, 253, 241,\n",
       "       249, 247, 252, 242, 253, 257, 246, 239, 261, 262, 266, 246, 239,\n",
       "       272, 255, 250, 238, 248, 256, 243, 234, 245, 252, 235, 236, 251,\n",
       "       254, 254, 268, 219, 253, 247, 270, 251, 273, 240, 235, 280, 239,\n",
       "       251, 241, 240, 240, 263, 253, 247, 261, 249, 240, 251, 253, 242,\n",
       "       265, 255, 250, 250, 252, 246, 238, 249, 265, 242, 247, 240, 257,\n",
       "       253, 274, 274, 241, 261, 269, 257, 231, 244, 244, 257, 239, 267,\n",
       "       266, 245, 255, 259, 256, 251, 249, 248, 258, 233, 255, 241, 251,\n",
       "       267, 234, 255, 257, 259, 251, 255, 248, 228, 245, 244, 236, 275,\n",
       "       253, 254, 237, 252, 272, 251, 258, 245, 251, 238, 257, 258, 245,\n",
       "       264, 251, 259, 247, 241, 244, 249, 244, 257, 245, 246, 248, 270,\n",
       "       257, 269, 248, 265, 240, 249, 257, 244, 239, 251, 244, 237, 266,\n",
       "       240, 242, 252, 241, 246, 231, 251, 226, 240, 252, 258, 271, 264,\n",
       "       260, 248, 266, 258, 238, 266, 246, 267, 258, 262, 266, 225, 256,\n",
       "       249, 267, 222, 259, 261, 250, 260, 234, 240, 246, 269, 231, 263,\n",
       "       255, 254, 253, 251, 263, 250, 263, 243, 247, 232, 242, 247, 247,\n",
       "       248, 255, 257, 246, 260, 263, 262, 253, 265, 240, 260, 248, 233,\n",
       "       250, 249, 239, 271, 245, 232, 256, 254, 245, 236, 275, 266, 257,\n",
       "       249, 256, 240, 257, 258, 261, 237, 258, 246, 261, 267, 253, 255,\n",
       "       247, 263, 257, 258, 243, 248, 245, 256, 261, 253, 251, 257, 232,\n",
       "       243, 258, 257, 266, 259, 246, 235, 251, 243, 217, 252, 255, 267,\n",
       "       250, 261, 276, 251, 234, 243, 262, 250, 249, 253, 250, 247, 252,\n",
       "       253, 242, 241, 268, 263, 256, 252, 247, 252, 227, 253, 246, 263,\n",
       "       251, 238, 249, 247, 256, 232, 242, 241, 258, 229, 257, 233])"
      ]
     },
     "execution_count": 25,
     "metadata": {},
     "output_type": "execute_result"
    }
   ],
   "source": [
    "import numpy as np\n",
    "n = 10000  #number of trials\n",
    "p = 0.5    # probability of success\n",
    "trials = np.random.binomial(500, 0.5, 1000)   # size of experiment is 1000\n",
    "trials\n",
    "\n",
    "# each result below is from the n (the 500 trials) and the expected result would be 50%. All outputs are close to 50% (ie.half of 500)"
   ]
  },
  {
   "cell_type": "code",
   "execution_count": 22,
   "metadata": {},
   "outputs": [
    {
     "data": {
      "image/png": "[encoded data removed]",
      "text/plain": [
       "<Figure size 432x288 with 1 Axes>"
      ]
     },
     "metadata": {
      "needs_background": "light"
     },
     "output_type": "display_data"
    }
   ],
   "source": [
    "import matplotlib.pyplot as plt\n",
    "plt.hist(trials)\n",
    "plt.show()"
   ]
  },
  {
   "cell_type": "code",
   "execution_count": null,
   "metadata": {},
   "outputs": [],
   "source": []
  },
  {
   "cell_type": "markdown",
   "metadata": {},
   "source": [
    "# 6. Use of Seeds in generating Pseudorandom Numbers\n",
    "\n",
    "“The NumPy random choice function operates on the principle of pseudorandom number generation. When we use a pseudorandom number generator, the numbers in the output approximate random numbers, but are not exactly ‘random’. In fact, when we use pseudorandom numbers, the output is actually deterministic; the output is actually determined by an initializing value called a ‘seed’. Let me say that again: when we set a seed for a pseudorandom number generator, the output is completely determined by the seed. What that means is that if we use the same seed, a pseudorandom number generator will produce the same output.”[3]\n"
   ]
  },
  {
   "cell_type": "markdown",
   "metadata": {},
   "source": [
    "# _8. References/Biblography_\n",
    "\n",
    "[1] https://docs.scipy.org/doc/numpy-1.15.0/user/whatisnumpy.html accessed 1/Nov/2019\n",
    "\n",
    "[2] https://www.sharpsightlabs.com/blog/numpy-random-choice/ accessed 4/Nov/2019\n",
    "\n",
    "[3] https://www.sharpsightlabs.com/blog/numpy-random-choice/ accessed 6/Nov/2019\n",
    "\n",
    "[4] https://docs.scipy.org/doc/numpy-1.15.0/reference/generated/numpy.random.shuffle.html#numpy.random.shuffle accessed 9/Nov/2019\n",
    "\n",
    "[5] https://docs.scipy.org/doc/numpy-1.15.0/reference/generated/numpy.random.permutation.html#numpy.random.permutation accessed 9/Nov/2019\n",
    "\n",
    "[6] https://en.wikipedia.org/wiki/Normal_distribution accessed 9/Nov/2019\n",
    "\n",
    "[7] https://stattrek.com/probability-distributions/normal.aspx accessed 9/Nov/2019\n",
    "\n",
    "\n",
    "\n",
    "\n",
    "https://docs.scipy.org/doc/numpy-1.15.0/reference/routines.random.html\n"
   ]
  },
  {
   "cell_type": "code",
   "execution_count": null,
   "metadata": {},
   "outputs": [],
   "source": []
  },
  {
   "cell_type": "code",
   "execution_count": null,
   "metadata": {},
   "outputs": [],
   "source": []
  },
  {
   "cell_type": "code",
   "execution_count": null,
   "metadata": {},
   "outputs": [],
   "source": []
  }
 ],
 "metadata": {
  "kernelspec": {
   "display_name": "Python 3",
   "language": "python",
   "name": "python3"
  },
  "language_info": {
   "codemirror_mode": {
    "name": "ipython",
    "version": 3
   },
   "file_extension": ".py",
   "mimetype": "text/x-python",
   "name": "python",
   "nbconvert_exporter": "python",
   "pygments_lexer": "ipython3",
   "version": "3.7.1"
  }
 },
 "nbformat": 4,
 "nbformat_minor": 2
}
