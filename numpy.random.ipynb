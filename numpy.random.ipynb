{
 "cells": [
  {
   "cell_type": "markdown",
   "metadata": {},
   "source": [
    "# **_Edel Corcoran ID #:G00010824_**\n",
    "# **_GMIT: Higher Diploma in Data Analytics_**\n",
    "# **_Module 52465: Programming for Data Analytics_**\n",
    "# **_Assignment: NumPy.Random Package_**"
   ]
  },
  {
   "cell_type": "markdown",
   "metadata": {},
   "source": [
    "# Introduction & Project Layout\n",
    "\n",
    "The primary focus of this project is to  research the numpy.random package, to explain it's overall purpose and analyse in detail at least five of the distributions within the package and also to investigate the use of both the \"Simple Random Data\" and \"Permutation\" functions. Finally the project will outline how numpy.random uses seeds in generating psuedorandom numbers. \n",
    "\n",
    "The project layout\n",
    "1. What is the numpy.random package\n",
    "2. What is the overall purpose of the package\n",
    "3. Explanation of the \"Simple Random Data\" function\n",
    "4. Explanation of the \"Permutation\" function\n",
    "5. Use/Purpose of 5 distributions functions of numpy.random\n",
    "6. Use of seeds in generating pseudorandom numbers\n",
    "7. Summary\n",
    "8. References/Biblography\n"
   ]
  },
  {
   "cell_type": "markdown",
   "metadata": {},
   "source": [
    "# _1. What is numpy.random?_\n",
    "\n",
    "\"NumPy is the fundamental package for scientific computing in Python. It is a Python library that provides a multidimensional array object, various derived objects (such as masked arrays and matrices), and an assortment of routines for fast operations on arrays, including mathematical, logical, shape manipulation, sorting, selecting, I/O, discrete Fourier transforms, basic linear algebra, basic statistical operations, random simulation and much more.\" [1]\n",
    "\n",
    "Essentially numpy is good and quick at dealing with numbers in big lists or matrices in python. If you need to deal with numbers you could write some code in python however numpy is simply a far more efficient way for you to deal with number lists or matrices in python. This specialist package deals with multi-dimensional arrays (ie. lists within lists) and it likes them to have a rectangular so two dimensionals lists each row/column having the same number of elements.  \n",
    "\n",
    "Numpy.random is a sub-package of the NumPy package in python. \n",
    "\n",
    "Further information on the functions, permutations, distributions and random generator available within the numpy.random package is available on the website below:\n",
    "\n",
    "https://docs.scipy.org/doc/numpy-1.15.0/reference/routines.random.html\n"
   ]
  },
  {
   "cell_type": "markdown",
   "metadata": {},
   "source": [
    "# _2. Purpose of the package_\n",
    "\n",
    "\"NumPy is a data manipulation module for Python. Specifically, the tools from NumPy operate on arrays of numbers … i.e., numeric data. Because NumPy functions operate on numbers, they are especially useful for data science, statistics, and machine learning\".[2]\n",
    "\n",
    "It's a specialise package which help users to efficiently deal with lists of numbers or matrices in python. It's important for the simple reason that matrice operations are commonly utilised in computers and computer screens. Some tasks which require matrice operations are:\n",
    "\n",
    "- resizing photographs\n",
    "- compressing images or songs down to a particular size\n",
    "- doing anything scientific on a computer\n",
    "\n",
    "The package is widely used in data analysis, data science, machine learning etc.\n",
    "\n"
   ]
  },
  {
   "cell_type": "markdown",
   "metadata": {},
   "source": [
    "# 3. Simple Random Data"
   ]
  },
  {
   "cell_type": "markdown",
   "metadata": {},
   "source": [
    "The NumPy.Random package has ten simple random functions which are outlined in the image below, using these functions it possible to generate random data to a specified size and shape. This package makes carrying out such tacks very efficient and effective and help analysts generate the desired random data almost instantly. A fundamental assumption for data analysts or anyone using statistical analysis is that data is generated randomly and this package succeeds in this task. Some of the main functions are explained in more detail below with code included to illustrate.\n",
    "\n",
    "<img src=\"SRD_Functions.png\"> [10]"
   ]
  },
  {
   "cell_type": "markdown",
   "metadata": {},
   "source": [
    "**_np.random.rand_**\n",
    "\n",
    "Basically the function will generate random floating numbers between zero (included) and one (excluded) to a specified size and dimension (d1, d2,... dn)from a uniform distribution. It is possible to alter the range if desired. In the code examples below you can firstly see a single flaoting number generated and secondly a multi-dimensional array of floats generated. \n"
   ]
  },
  {
   "cell_type": "code",
   "execution_count": 1,
   "metadata": {},
   "outputs": [
    {
     "data": {
      "text/plain": [
       "0.19034506471647172"
      ]
     },
     "execution_count": 1,
     "metadata": {},
     "output_type": "execute_result"
    }
   ],
   "source": [
    "#import numpy library\n",
    "import numpy as np\n",
    "#Generate a random from from uniform distribution\n",
    "np.random.rand()"
   ]
  },
  {
   "cell_type": "code",
   "execution_count": 2,
   "metadata": {},
   "outputs": [
    {
     "data": {
      "text/plain": [
       "array([[0.65044141, 0.61215881, 0.20048615, 0.06138786, 0.32538336],\n",
       "       [0.44123019, 0.50073879, 0.2718571 , 0.2769974 , 0.77028464],\n",
       "       [0.85867648, 0.16541886, 0.2816423 , 0.89371766, 0.89489087]])"
      ]
     },
     "execution_count": 2,
     "metadata": {},
     "output_type": "execute_result"
    }
   ],
   "source": [
    "#import numpy library\n",
    "import numpy as np\n",
    "#Generate an array  with 3 rows and 5 columns populated with random floats\n",
    "np.random.rand(3,5)"
   ]
  },
  {
   "cell_type": "code",
   "execution_count": 3,
   "metadata": {},
   "outputs": [
    {
     "name": "stdout",
     "output_type": "stream",
     "text": [
      "-0.884661908036749\n"
     ]
    }
   ],
   "source": [
    "#Generate a random float between the range between 1 and -1\n",
    "print(np.random.rand()*2.0-1.0)"
   ]
  },
  {
   "cell_type": "markdown",
   "metadata": {},
   "source": [
    "**_np.random.randint_**\n",
    "\n",
    "Generates an array of specified shape populated with random integer(s) from the discrete uniform distribution in the half open interval ie.between a specified min (included) and max (excluded) value. The parameters are the min/max values and size required: np.random.randint(min,max,size)."
   ]
  },
  {
   "cell_type": "code",
   "execution_count": 4,
   "metadata": {},
   "outputs": [
    {
     "data": {
      "text/plain": [
       "4"
      ]
     },
     "execution_count": 4,
     "metadata": {},
     "output_type": "execute_result"
    }
   ],
   "source": [
    "#Import numpy library\n",
    "import numpy as np\n",
    "#Generate a random integer between o and 4\n",
    "np.random.randint(5)"
   ]
  },
  {
   "cell_type": "code",
   "execution_count": 5,
   "metadata": {},
   "outputs": [
    {
     "data": {
      "text/plain": [
       "array([7, 5, 2])"
      ]
     },
     "execution_count": 5,
     "metadata": {},
     "output_type": "execute_result"
    }
   ],
   "source": [
    "#Shape can be altered to generate a required array ...Here an array of 3 random integers between 0 and 9 are genereted.\n",
    "np.random.randint(0, 10, 3)"
   ]
  },
  {
   "cell_type": "markdown",
   "metadata": {},
   "source": [
    "**_np.random.randn_**\n",
    "\n",
    "It will generate data in a specified shape from the standard normal distribution\n"
   ]
  },
  {
   "cell_type": "code",
   "execution_count": 6,
   "metadata": {},
   "outputs": [
    {
     "data": {
      "text/plain": [
       "0.780576999861398"
      ]
     },
     "execution_count": 6,
     "metadata": {},
     "output_type": "execute_result"
    }
   ],
   "source": [
    "#Generate a random float from a normal distribution\n",
    "np.random.randn()"
   ]
  },
  {
   "cell_type": "code",
   "execution_count": 7,
   "metadata": {},
   "outputs": [
    {
     "data": {
      "text/plain": [
       "array([[ 0.01195442, -0.46042646,  0.65719505, -1.30984464],\n",
       "       [ 1.98703136, -1.02577134,  0.11515154,  0.47050177],\n",
       "       [-0.21673165, -0.69683997, -0.44216242,  0.5559525 ]])"
      ]
     },
     "execution_count": 7,
     "metadata": {},
     "output_type": "execute_result"
    }
   ],
   "source": [
    "#Generate an array with 3 rows and 4 columns  populated with random floats\n",
    "np.random.randn(3, 4)"
   ]
  },
  {
   "cell_type": "markdown",
   "metadata": {},
   "source": [
    "**np.random.random_sample**\n",
    "\n",
    "This function will generate random floats from a continous uniform distribution between zero (included) and one (excluded) ie.half open interval. Similarly to previous functions shape can be manipulated as required."
   ]
  },
  {
   "cell_type": "code",
   "execution_count": 8,
   "metadata": {},
   "outputs": [
    {
     "data": {
      "text/plain": [
       "0.9947805429895608"
      ]
     },
     "execution_count": 8,
     "metadata": {},
     "output_type": "execute_result"
    }
   ],
   "source": [
    "#Generate a random float between o and 1 (excluded)\n",
    "np.random.random_sample()"
   ]
  },
  {
   "cell_type": "code",
   "execution_count": 9,
   "metadata": {},
   "outputs": [
    {
     "data": {
      "text/plain": [
       "array([0.94731538, 0.92538681, 0.546053  , 0.20657198, 0.55138365])"
      ]
     },
     "execution_count": 9,
     "metadata": {},
     "output_type": "execute_result"
    }
   ],
   "source": [
    "#Generate a random array of 5 floats between 0 and 1(ecxluded)\n",
    "np.random.random_sample(5)"
   ]
  },
  {
   "cell_type": "markdown",
   "metadata": {},
   "source": [
    "**_np.random.choice_**\n",
    "\n",
    "This function selects a value from a given 1-dimensional array and repeats for the specified number of times. \n"
   ]
  },
  {
   "cell_type": "code",
   "execution_count": 10,
   "metadata": {},
   "outputs": [
    {
     "data": {
      "text/plain": [
       "array([6, 7, 3])"
      ]
     },
     "execution_count": 10,
     "metadata": {},
     "output_type": "execute_result"
    }
   ],
   "source": [
    "#Generate 3 random uniform samples from between 0-9 (not including 10)\n",
    "np.random.choice(10,3)"
   ]
  },
  {
   "cell_type": "code",
   "execution_count": 11,
   "metadata": {},
   "outputs": [
    {
     "name": "stdout",
     "output_type": "stream",
     "text": [
      "['80-99' '60-79' '0-19' '20-39' '60-79' '0-19' '60-79' '40-59' '60-79'\n",
      " '60-79' '40-59' '40-59' '80-99' '0-19' '40-59' '60-79' '0-19' '40-59'\n",
      " '60-79' '0-19' '40-59' '40-59' '40-59' '0-19' '0-19' '40-59' '60-79'\n",
      " '20-39' '40-59' '40-59' '0-19' '20-39' '60-79' '20-39' '20-39' '40-59'\n",
      " '80-99' '60-79' '60-79' '20-39' '0-19' '20-39' '80-99' '0-19' '40-59'\n",
      " '0-19' '0-19' '40-59' '20-39' '0-19' '20-39' '20-39' '20-39' '0-19'\n",
      " '80-99' '20-39' '20-39' '0-19' '40-59' '80-99' '80-99' '40-59' '40-59'\n",
      " '80-99' '20-39' '60-79' '20-39' '40-59' '0-19' '40-59' '20-39' '60-79'\n",
      " '20-39' '80-99' '20-39' '60-79' '80-99' '40-59' '80-99' '40-59' '40-59'\n",
      " '60-79' '80-99' '0-19' '0-19' '40-59' '60-79' '0-19' '40-59' '20-39'\n",
      " '80-99' '40-59' '60-79' '60-79' '20-39' '40-59' '20-39' '0-19' '0-19'\n",
      " '40-59']\n"
     ]
    }
   ],
   "source": [
    "#import numpy library\n",
    "import numpy as np\n",
    "# an array of 5 age categories/ranges\n",
    "ages = ['0-19', '20-39', '40-59', '60-79', '80-99']\n",
    "#generate 100 random values from the array above using 'choice' function\n",
    "x = np.random.choice(ages, 100)\n",
    "print(x)\n",
    "#could also be displayed in histogram if required"
   ]
  },
  {
   "cell_type": "markdown",
   "metadata": {},
   "source": [
    "**_np.random.bytes_**\n",
    "\n",
    "The bytes function will generate random bytes to the specified size/length.\n",
    "\n"
   ]
  },
  {
   "cell_type": "code",
   "execution_count": 12,
   "metadata": {},
   "outputs": [
    {
     "data": {
      "text/plain": [
       "b\"O\\x01\\xa4y\\xe1\\x9bt\\x14\\xbe\\x97\\x0f\\x99\\x18\\x07\\x15\\x99\\xbeKl\\xd2e\\xb5O\\x17b=\\xc9\\xad\\x99\\xc0\\xbc\\xc3%\\xcdMaI\\xf3R\\x01\\x00'\\xb6\\xd1\\xaa\\xa0\\x02\\xbb\\xa4\\xdc\""
      ]
     },
     "execution_count": 12,
     "metadata": {},
     "output_type": "execute_result"
    }
   ],
   "source": [
    "#Generate 10 random bytes\n",
    "np.random.bytes(50)"
   ]
  },
  {
   "cell_type": "markdown",
   "metadata": {},
   "source": [
    "# 4. Permutations\n",
    "\n"
   ]
  },
  {
   "cell_type": "markdown",
   "metadata": {},
   "source": [
    "**Shuffle**\n",
    "\n",
    "\"Modify a sequence in-place by shuffling its contents.This function only shuffles the array along the first axis of a multi-dimensional array. The order of sub-arrays is changed but their contents remains the same.\"[4]\n",
    "\n",
    "The NumPy **arange** function will produce an array with evenly spaced numerical values within a given range. In the example below an array with five values is produced from 0  to 4.\n"
   ]
  },
  {
   "cell_type": "code",
   "execution_count": 13,
   "metadata": {},
   "outputs": [
    {
     "data": {
      "text/plain": [
       "array([0, 1, 2, 3, 4])"
      ]
     },
     "execution_count": 13,
     "metadata": {},
     "output_type": "execute_result"
    }
   ],
   "source": [
    "#import numpy library\n",
    "import numpy as np\n",
    "# generate array of integers from 0(included) to 5(excluded)\n",
    "array = np.arange(5)\n",
    "#display array\n",
    "array"
   ]
  },
  {
   "cell_type": "markdown",
   "metadata": {},
   "source": [
    "When the shuffle function (ie. **np.random.shuffle** in the code below) is applied the 5 element array above is shuffled. The same five values are produced but now they are shuffled and appear in a different order as seen below:"
   ]
  },
  {
   "cell_type": "code",
   "execution_count": 14,
   "metadata": {},
   "outputs": [
    {
     "data": {
      "text/plain": [
       "array([3, 0, 2, 4, 1])"
      ]
     },
     "execution_count": 14,
     "metadata": {},
     "output_type": "execute_result"
    }
   ],
   "source": [
    "#import numpy library\n",
    "import numpy as np\n",
    "#define x as the array [0,1,2,3,4] (as in previous code)\n",
    "x = np.arange(5)\n",
    "#shuffle order of the array x\n",
    "np.random.shuffle(x)\n",
    "#display\n",
    "x"
   ]
  },
  {
   "cell_type": "markdown",
   "metadata": {},
   "source": [
    "**Permutation**\n",
    "\n",
    "\"Randomly permute a sequence, or return a permuted range. If x is a multi-dimensional array, it is only shuffled along its first index\". [5]\n",
    "\n",
    "When similar code is used below to produce an array with 5 evenly spaced values and the permutation function is applied, the output produces the same result every time the code is run. The output doesn't change because the permutation function doesn't change the element order within an array. "
   ]
  },
  {
   "cell_type": "code",
   "execution_count": 15,
   "metadata": {},
   "outputs": [
    {
     "data": {
      "text/plain": [
       "array([0, 1, 2, 3, 4])"
      ]
     },
     "execution_count": 15,
     "metadata": {},
     "output_type": "execute_result"
    }
   ],
   "source": [
    "#import numpy\n",
    "import numpy as np\n",
    "#define the array x\n",
    "x = np.arange(5)\n",
    "#return permuted sequence\n",
    "np.random.permutation(x)\n",
    "#display\n",
    "x"
   ]
  },
  {
   "cell_type": "markdown",
   "metadata": {},
   "source": [
    "Where the permutation function is useful is when you want to shuffle the order of arrays without making changes to the elements within the arrays. In the code below 16 evenly spaced values are produces (ie. 0,1,2....14,15), the reshape function (ie. **reshape((4, 4))** in the code below ) allows the values to be displayed in 4 arrays with 4 values in each. The first four values 0-3 make up an array, the next four values of 4-7 make up another array etc. (ie. [0,1,2,3],[4,5,6,7],[8,9,10,11],[12,13,14,15]). When the **np.random.permutation** code is run the 4 arrays are shuffled in order but values within each array do not change in oder. So the permutation function allow you to shuffle arrays without changing their contents in any way. "
   ]
  },
  {
   "cell_type": "code",
   "execution_count": 16,
   "metadata": {},
   "outputs": [
    {
     "data": {
      "text/plain": [
       "array([[ 0,  1,  2,  3],\n",
       "       [ 4,  5,  6,  7],\n",
       "       [ 8,  9, 10, 11],\n",
       "       [12, 13, 14, 15]])"
      ]
     },
     "execution_count": 16,
     "metadata": {},
     "output_type": "execute_result"
    }
   ],
   "source": [
    "#import numpy library\n",
    "import numpy as np\n",
    "# define the array x as having 16 values from 0 to 16(excluded), shape array into 4 rows/ 4columns\n",
    "x = np.arange(16).reshape((4, 4))\n",
    "#return permuted sequence ie.shuffles 4 arrays\n",
    "np.random.permutation(x)\n",
    "#display\n",
    "x"
   ]
  },
  {
   "cell_type": "markdown",
   "metadata": {},
   "source": [
    "# 5. Use & Purpose of Five Distribution types in NumPy.Random"
   ]
  },
  {
   "cell_type": "markdown",
   "metadata": {},
   "source": [
    "\n",
    "\"In probability theory and statistics, a probability distribution is a mathematical function that can be thought of as providing the probabilities of occurrence of different possible outcomes in an experiment\"[14]. It can be discrete or continuous. \n",
    "\n",
    "There are various distribution types which can be utilised within the NumPy.Random package. The image below briefly outlines each distrubution. In the short project I will examine five of the distributions.\n"
   ]
  },
  {
   "cell_type": "markdown",
   "metadata": {},
   "source": [
    "\n",
    "<img src=\"Numpy.Random Distributions.jpg\">\n"
   ]
  },
  {
   "cell_type": "markdown",
   "metadata": {},
   "source": [
    "**1. Normal Distribution**"
   ]
  },
  {
   "cell_type": "markdown",
   "metadata": {},
   "source": [
    "\n",
    "\n",
    "In 1809, the **Normal Distribution (or Gaussian or Gauss or Laplace–Gauss)** was discovered by **Carl Friedrich Gauss** a German mathematician and physicist, although contributions were also made by French mathematician **Pierre-Simon Laplace**, hence the name variation.\n",
    "\n",
    "“In probability theory, the normal distribution is a very common continual probability distribution. Normal distributions are important in statistics and are often used in the natural and social sciences to represent real-valued random variables whose distributions are not known. A random variable with a Gaussian distribution is said to be normally distributed … The normal distribution is useful because of the central limit theorem. In its most general form, under some conditions, it states that averages of samples of observations of random variables  independently drawn from the same distribution converge in distribution to the normal, that is, they become normally distributed when the number of observations is sufficiently large.” [6.Wikipedia]\n",
    "\n",
    "Some of the characteristics:\n",
    "-\tHas a single peak because most values occur in the middle (ie. near the mean)\n",
    "-\tBell-Shaped\n",
    "-\tsymmetric (ie. draw a line at the mean and left/right sides look the same)\n",
    "\n",
    "A normal distribution is defined by two things the mean and the standard deviation. The mean is the central point or midpoint of the distribution. Whereas the standard deviation outlines how widespread the distribution is.\n"
   ]
  },
  {
   "cell_type": "markdown",
   "metadata": {},
   "source": [
    "**Image and Equation:**\n",
    "\n",
    "\n",
    "\"The Normal Equation. The value of the random variable Y is:\n",
    "\n",
    "Y = { 1/[ σ * sqrt(2π) ] } * e-(x - μ)2/2σ2\n",
    "\n",
    "where X is a normal random variable, μ is the mean, σ is the standard deviation, π is approximately 3.14159, and e is approximately 2.71828.\" [7]\n",
    "\n"
   ]
  },
  {
   "cell_type": "code",
   "execution_count": 17,
   "metadata": {},
   "outputs": [
    {
     "data": {
      "text/plain": [
       "<Figure size 640x480 with 1 Axes>"
      ]
     },
     "metadata": {},
     "output_type": "display_data"
    }
   ],
   "source": [
    "#import numpy library\n",
    "import numpy as np\n",
    "#generate sample from normal distribution centred around '0',with standard deviation of '1' and size '1000'\n",
    "x = np.random.normal(0, 1, 1000)\n",
    "#import matplotlib\n",
    "import matplotlib.pyplot as plt\n",
    "#generate & display histogram\n",
    "plt.hist(x)\n",
    "plt.show()"
   ]
  },
  {
   "cell_type": "markdown",
   "metadata": {},
   "source": [
    "**2. Uniform Distribution**"
   ]
  },
  {
   "cell_type": "markdown",
   "metadata": {},
   "source": [
    "\n",
    "A uniform distribution is a type of probability distribution in which all outcomes are equally likely hence the name 'uniform'. Each variable has the same probability that it will be the outcome. An example would be a coin toss because there  is an equal probability of getting a head or tail, similarly with a deck of playing cards the probability of drawing a heart, club, spade or diamond is equally likely. Rolling a dice is an example of a discrete uniform distribution (ie. you can roll any of the 6 numbers but not a 1.5 or 3.2). Continuous uniform distribution would have infinite possible outcomes for example a random number generator.\n",
    "\n",
    "Some Characteristics of Uniform Distribution:\n",
    "- Rectangular in shape \n",
    "- each value of the random variable is equally likely to occur\n",
    "- has a min/mix value\n",
    "- mean = (min + max)/2\n",
    "\n",
    "\n",
    "\n"
   ]
  },
  {
   "cell_type": "markdown",
   "metadata": {},
   "source": [
    "Some code is used below to import numpy and matplotlib, generate 10,000 random numbers and to create a variable called **'x'**. The **np.random.rand()** function is applied which generates 10,000 random numbers between zero (inclusive) and 1 (exclusive). A histogram is displayed using matplotlib to illustrate the results and the outcomes clearly follow a uniform distribution(continuous)."
   ]
  },
  {
   "cell_type": "code",
   "execution_count": 18,
   "metadata": {},
   "outputs": [],
   "source": [
    "#import numpy library\n",
    "import numpy as np"
   ]
  },
  {
   "cell_type": "code",
   "execution_count": 19,
   "metadata": {},
   "outputs": [
    {
     "data": {
      "text/plain": [
       "array([0.84405792, 0.42981878, 0.62486554, ..., 0.09589066, 0.78891004,\n",
       "       0.36672002])"
      ]
     },
     "execution_count": 19,
     "metadata": {},
     "output_type": "execute_result"
    }
   ],
   "source": [
    "#define x as array of 10000 random floats from [0,1) ie.excluding 1\n",
    "x = np.random.rand(10000)\n",
    "#display\n",
    "x"
   ]
  },
  {
   "cell_type": "code",
   "execution_count": 20,
   "metadata": {},
   "outputs": [
    {
     "data": {
      "image/png": "[encoded data removed]",
      "text/plain": [
       "<Figure size 432x288 with 1 Axes>"
      ]
     },
     "metadata": {
      "needs_background": "light"
     },
     "output_type": "display_data"
    }
   ],
   "source": [
    "#import matplotlib\n",
    "import matplotlib.pyplot as plt\n",
    "#Generate and display histogram\n",
    "plt.hist(x)\n",
    "plt.show()"
   ]
  },
  {
   "cell_type": "markdown",
   "metadata": {},
   "source": [
    "**3. Binomial Distribution**"
   ]
  },
  {
   "cell_type": "markdown",
   "metadata": {},
   "source": [
    "A Binomial distribution can be described as a distribution where there are only two possible outcomes (ie. success or failure) and where there is an equal probability of success and failure for all the independent trials carried out. "
   ]
  },
  {
   "cell_type": "markdown",
   "metadata": {},
   "source": [
    "Some Characteristics of a Binomial Distribution:\n",
    "- All the trials are independent\n",
    "- Only two possible outcomes (success or fail)\n",
    "- There’s an equal probability of a success and a failure for all the identical trials conducted.\n",
    "\n",
    "Code:\n",
    "In the code below if a coin tossing experiment of size 1000 is conducted, what's the chances that 500 heads (successes) occur? Given that the trial\n"
   ]
  },
  {
   "cell_type": "code",
   "execution_count": 21,
   "metadata": {},
   "outputs": [
    {
     "data": {
      "image/png": "[encoded data removed]",
      "text/plain": [
       "<Figure size 432x288 with 1 Axes>"
      ]
     },
     "metadata": {
      "needs_background": "light"
     },
     "output_type": "display_data"
    }
   ],
   "source": [
    "#import numpy library\n",
    "import numpy as np\n",
    "n = 500  #number of trials\n",
    "p = 0.5    # probability of success\n",
    "x = np.random.binomial(n, p, 1000)   # size of 1000 here indicates the number of times the experiment is run\n",
    "x\n",
    "# If a coin is tosses 500(n=500) times with even probability(p=0.5) of success(heads) and this experiment is repeated 1000 times.\n",
    "# How many of the 500 coin flips result in heads? All outputs are close to 50% (ie.half of 500) as expected.\n",
    "# Plot displayed below looks bell shaped.\n",
    "\n",
    "#import matplotlib\n",
    "import matplotlib.pyplot as plt\n",
    "#generate & display histogram\n",
    "plt.hist(x)\n",
    "plt.show()"
   ]
  },
  {
   "cell_type": "code",
   "execution_count": 22,
   "metadata": {},
   "outputs": [
    {
     "name": "stderr",
     "output_type": "stream",
     "text": [
      "C:\\Users\\edel_\\Anaconda3\\lib\\site-packages\\scipy\\stats\\stats.py:1713: FutureWarning: Using a non-tuple sequence for multidimensional indexing is deprecated; use `arr[tuple(seq)]` instead of `arr[seq]`. In the future this will be interpreted as an array index, `arr[np.array(seq)]`, which will result either in an error or a different result.\n",
      "  return np.add.reduce(sorted[indexer] * weights, axis=axis) / sumval\n"
     ]
    },
    {
     "data": {
      "text/plain": [
       "Text(0, 0.5, 'Frequency')"
      ]
     },
     "execution_count": 22,
     "metadata": {},
     "output_type": "execute_result"
    },
    {
     "data": {
      "image/png": "[encoded data removed]",
      "text/plain": [
       "<Figure size 1008x504 with 1 Axes>"
      ]
     },
     "metadata": {
      "needs_background": "light"
     },
     "output_type": "display_data"
    }
   ],
   "source": [
    "# A more advances example is detailed below.\n",
    "# Code from website: [8]https://towardsdatascience.com/fun-with-the-binomial-distribution-96a5ecabf65b accessed 10/Nov/2019\n",
    "# Import libraries\n",
    "import numpy as np\n",
    "import matplotlib.pyplot as plt\n",
    "import seaborn as sns\n",
    "# Input variables\n",
    "# Number of trials\n",
    "trials = 1000\n",
    "# Number of independent experiments in each trial\n",
    "n = 10\n",
    "# Probability of success for each experiment\n",
    "p = 0.5\n",
    "# Function that runs our coin toss trials\n",
    "# heads is a list of the number of successes from each trial of n experiments\n",
    "def run_binom(trials, n, p):\n",
    "    heads = []\n",
    "    for i in range(trials):\n",
    "        tosses = [np.random.random() for i in range(n)]\n",
    "        heads.append(len([i for i in tosses if i>=0.50]))\n",
    "    return heads\n",
    "# Run the function\n",
    "heads = run_binom(trials, n, p)\n",
    "# Plot the results as a histogram\n",
    "fig, ax = plt.subplots(figsize=(14,7))\n",
    "ax = sns.distplot(heads, bins=11, label='simulation results')\n",
    "ax.set_xlabel(\"Number of Heads\",fontsize=16)\n",
    "ax.set_ylabel(\"Frequency\",fontsize=16)"
   ]
  },
  {
   "cell_type": "markdown",
   "metadata": {},
   "source": [
    "**4. Poisson Distribution**"
   ]
  },
  {
   "cell_type": "markdown",
   "metadata": {},
   "source": [
    "The Poisson distribution which is named after French mathematician Siméon Denis Poisson is a discrete probability distribution which shows how often an event is likely to occur within a specified time interval, for example many vehicles pass along a road in 60 minutes or how many hits a website get in 60 minutes. So this distribution could answer a question for an engineer like, \"What's the probability that 1,000 vehicles will travel on a particular road over a 60 minute interval?\"\n",
    "\n",
    " \n",
    "Some Assumptions of the Poisson Distribution:\n",
    "\n",
    "- time interval is fixed\n",
    "- events occur independently\n",
    "- the probability of an event occurring in a specified intervel doesn't change through time\n"
   ]
  },
  {
   "cell_type": "markdown",
   "metadata": {},
   "source": [
    "\n",
    "**Poisson Formula** Wikipedia[9]:\n",
    "\n",
    "<img src=\"PoissonFormula.png.\">\n",
    "    \n",
    "    "
   ]
  },
  {
   "cell_type": "code",
   "execution_count": 23,
   "metadata": {},
   "outputs": [
    {
     "data": {
      "image/png": "[encoded data removed]",
      "text/plain": [
       "<Figure size 432x288 with 1 Axes>"
      ]
     },
     "metadata": {
      "needs_background": "light"
     },
     "output_type": "display_data"
    }
   ],
   "source": [
    "# import necessary libraries\n",
    "import numpy as np\n",
    "import matplotlib.pyplot as plt\n",
    "#generate from poisson distribution size 1000 with lam/mean of 5\n",
    "s = np.random.poisson(5, 1000)\n",
    "s\n",
    "#histogram specifics & show histogram\n",
    "count, bins, ignored = plt.hist(s, 14, density=True)\n",
    "plt.show()\n",
    "#code ref [15]"
   ]
  },
  {
   "cell_type": "markdown",
   "metadata": {},
   "source": [
    "**5. ChiSquare Distribution**\n",
    "\n",
    "With the chi square distribution we sample independent variables from the standard normal distribution then square and sum them. \n",
    "\n",
    "**Formula** \n",
    "\n",
    "<img src=\"ChiSquareFormula.png.\">\n",
    "\n",
    "[13]\n"
   ]
  },
  {
   "cell_type": "code",
   "execution_count": 24,
   "metadata": {},
   "outputs": [
    {
     "data": {
      "text/plain": [
       "array([0.33378334, 0.02968084, 4.22339084, 1.78152377, 1.26475834,\n",
       "       0.02266976, 0.89225045, 0.23111009, 1.1948471 , 0.24929885,\n",
       "       0.13486987, 0.66306446, 1.00319313, 9.12092174, 0.06045656,\n",
       "       0.77213856, 0.0180753 , 0.15348858, 0.01331067, 0.01390912])"
      ]
     },
     "execution_count": 24,
     "metadata": {},
     "output_type": "execute_result"
    }
   ],
   "source": [
    "#import numpy library\n",
    "import numpy as np\n",
    "#Parameters are Degrees of freedom 1, Size is 20\n",
    "np.random.chisquare(1,20)"
   ]
  },
  {
   "cell_type": "code",
   "execution_count": 25,
   "metadata": {},
   "outputs": [
    {
     "data": {
      "text/plain": [
       "array([ 0.05319789, 10.25986451,  1.23103157,  3.22037561,  1.01268343,\n",
       "        1.05988873,  1.05230293,  2.29562152,  7.48973386,  3.51665237,\n",
       "        6.36805271,  0.33745724,  2.00639603,  3.45490524,  2.24505986,\n",
       "        3.52331908,  0.6030632 ,  3.02936003,  3.09564869,  1.26694461])"
      ]
     },
     "execution_count": 25,
     "metadata": {},
     "output_type": "execute_result"
    }
   ],
   "source": [
    "# Vary the degrees of freedom(df)\n",
    "import numpy as np\n",
    "#Size 20 with 2 df's\n",
    "np.random.chisquare(2,20)"
   ]
  },
  {
   "cell_type": "markdown",
   "metadata": {},
   "source": [
    "# 6. Use of Seeds in generating Pseudorandom Numbers\n",
    "\n",
    "“The NumPy random choice function operates on the principle of pseudorandom number generation. When we use a pseudorandom number generator, the numbers in the output approximate random numbers, but are not exactly ‘random’. In fact, when we use pseudorandom numbers, the output is actually deterministic; the output is actually determined by an initializing value called a ‘seed’. Let me say that again: when we set a seed for a pseudorandom number generator, the output is completely determined by the seed. What that means is that if we use the same seed, a pseudorandom number generator will produce the same output.”[3]\n",
    "\n",
    "In simple terms:\n",
    "'Pseudo' is essentially another word for 'false' so when you read the term 'pseudonumbers' you wouldn't be wrong in thinking it's not fully random number. Pseudonumbers are in fact computer generated numbers and computers are designed to be deterministic not random in that if you input a command into a computer then you will receive an output or result, if you input the same command you'd expect the same result..right? Not a completely random result each time. Essentially, computers use algorithms to generate random numbers and because they are deterministic it's possible to reproduce or repeat them using seeds.\n",
    "\n",
    "**Why use seeds?**\n",
    "- Forums like Github etc. are commonly used for data scientists and analysts to share code and learn from each other. Using seeds in your code makes it repeatable and essentially easier to share with others. \n",
    "- Useful in machine learning\n"
   ]
  },
  {
   "cell_type": "code",
   "execution_count": 26,
   "metadata": {},
   "outputs": [
    {
     "data": {
      "text/plain": [
       "array([5, 8, 9])"
      ]
     },
     "execution_count": 26,
     "metadata": {},
     "output_type": "execute_result"
    }
   ],
   "source": [
    "# import numpy library\n",
    "import numpy as np\n",
    "np.random.seed(1)\n",
    "#Shape can be altered to generate a required array ...Here an array of 3 random integers between 0 and 9 are genereted.\n",
    "np.random.randint(0, 10, 3)"
   ]
  },
  {
   "cell_type": "code",
   "execution_count": 27,
   "metadata": {},
   "outputs": [
    {
     "data": {
      "text/plain": [
       "array([5, 8, 9])"
      ]
     },
     "execution_count": 27,
     "metadata": {},
     "output_type": "execute_result"
    }
   ],
   "source": [
    "#REPEAT ABOVE CODE AND SEE RESULT DISPLAYED IS THE SAME\n",
    "# import numpy library\n",
    "import numpy as np\n",
    "np.random.seed(1)\n",
    "#Shape can be altered to generate a required array ...Here an array of 3 random integers between 0 and 9 are genereted.\n",
    "np.random.randint(0, 10, 3)"
   ]
  },
  {
   "cell_type": "markdown",
   "metadata": {},
   "source": [
    "# 7.Conclusion\n",
    "\n",
    "This short project on NumPy.Random has looked at the various simple random data functions, several distibution functions and seeds in regards to psuedorandom number generation. I hope the explanations and code used throughout the project have given you a clear understanding of some of the elements of the package which were investigated and illustrated to you just how powerful a tool this package is and how it can be used. Thanks for reading!\n"
   ]
  },
  {
   "cell_type": "markdown",
   "metadata": {},
   "source": [
    "# _8. References/Biblography_\n",
    "\n",
    "[1] https://docs.scipy.org/doc/numpy-1.15.0/user/whatisnumpy.html accessed 1/Nov/2019\n",
    "\n",
    "[2] https://www.sharpsightlabs.com/blog/numpy-random-choice/ accessed 4/Nov/2019\n",
    "\n",
    "[3] https://www.sharpsightlabs.com/blog/numpy-random-seed/ accessed 6/Nov/2019\n",
    "\n",
    "[4] https://docs.scipy.org/doc/numpy-1.15.0/reference/generated/numpy.random.shuffle.html#numpy.random.shuffle accessed 9/Nov/2019\n",
    "\n",
    "[5] https://docs.scipy.org/doc/numpy-1.15.0/reference/generated/numpy.random.permutation.html#numpy.random.permutation accessed 9/Nov/2019\n",
    "\n",
    "[6] https://en.wikipedia.org/wiki/Normal_distribution accessed 9/Nov/2019\n",
    "\n",
    "[7] https://stattrek.com/probability-distributions/normal.aspx accessed 9/Nov/2019\n",
    "\n",
    "[8] https://towardsdatascience.com/fun-with-the-binomial-distribution-96a5ecabf65b accessed 10/Nov/2019\n",
    "\n",
    "[9] https://en.wikipedia.org/wiki/Poisson_distribution#Assumptions_and_validity accessed 10/Nov/2019\n",
    "\n",
    "\n",
    "[10] https://docs.scipy.org/doc/numpy-1.15.0/reference/routines.random.html \n",
    "\n",
    "[11] https://docs.scipy.org/doc/numpy-1.15.0/reference/generated/numpy.random.rand.html#numpy.random.rand\n",
    "\n",
    "[12] https://docs.scipy.org/doc/numpy-1.15.0/reference/generated/numpy.random.randn.html#numpy.random.randn\n",
    "\n",
    "[13] https://docs.scipy.org/doc/numpy-1.15.1/reference/generated/numpy.random.chisquare.html\n",
    "\n",
    "[14] https://www.geeksforgeeks.org/mathematics-probability-distributions-set-1/ accessed 11/Nov/2019\n",
    "\n",
    "[15] https://docs.scipy.org/doc/numpy/reference/random/generated/numpy.random.Generator.poisson.html\n",
    "\n",
    "\n",
    "https://www.sharpsightlabs.com/blog/numpy-random-seed/\n",
    "\n",
    "Lecture videos / notes\n"
   ]
  }
 ],
 "metadata": {
  "kernelspec": {
   "display_name": "Python 3",
   "language": "python",
   "name": "python3"
  },
  "language_info": {
   "codemirror_mode": {
    "name": "ipython",
    "version": 3
   },
   "file_extension": ".py",
   "mimetype": "text/x-python",
   "name": "python",
   "nbconvert_exporter": "python",
   "pygments_lexer": "ipython3",
   "version": "3.7.1"
  }
 },
 "nbformat": 4,
 "nbformat_minor": 2
}
