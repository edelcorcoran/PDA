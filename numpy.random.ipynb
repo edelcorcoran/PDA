{
 "cells": [
  {
   "cell_type": "markdown",
   "metadata": {},
   "source": []
  },
  {
   "cell_type": "markdown",
   "metadata": {},
   "source": [
    "# Edel Corcoran ID# G00010824\n",
    "- Higher Diploma in Data Analytics GMIT\n",
    "- Programming for Data Analytics: Semester 2 2019 (Module:52465)\n",
    "- Assignment: NumPy.Random Package"
   ]
  },
  {
   "cell_type": "markdown",
   "metadata": {},
   "source": [
    "# Introduction & Project Layout\n",
    "\n",
    "The primary focus of this project is to  research the numpy.random package, to explain it's overall purpose and analyse in detail at least five of the distributions within the package and also to investigate the use of both the \"Simple Random Data\" and \"Permutation\" functions. Finally the project will outline how numpy.random uses seeds in generating psuedorandom numbers. \n",
    "\n",
    "The project layout\n",
    "- 1. What is the numpy.random package\n",
    "- 2. What is the overall purpose of the package\n",
    "- 3. Explanation of the \"Simple Random Data\" function\n",
    "- 4. Explanation of the \"Permutation\" function\n",
    "- 5. Use/Purpose of 5 dictributions functions of numpy.random\n",
    "- 6. Use of seeds in generating pseudorandom numbers\n",
    "- 7. Summary\n"
   ]
  },
  {
   "cell_type": "code",
   "execution_count": null,
   "metadata": {},
   "outputs": [],
   "source": []
  }
 ],
 "metadata": {
  "kernelspec": {
   "display_name": "Python 3",
   "language": "python",
   "name": "python3"
  },
  "language_info": {
   "codemirror_mode": {
    "name": "ipython",
    "version": 3
   },
   "file_extension": ".py",
   "mimetype": "text/x-python",
   "name": "python",
   "nbconvert_exporter": "python",
   "pygments_lexer": "ipython3",
   "version": "3.7.1"
  }
 },
 "nbformat": 4,
 "nbformat_minor": 2
}
