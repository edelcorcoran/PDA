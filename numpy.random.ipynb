{
 "cells": [
  {
   "cell_type": "markdown",
   "metadata": {},
   "source": [
    "# **_Edel Corcoran ID #:G00010824_**\n",
    "# **_GMIT: Higher Diploma in Data Analytics_**\n",
    "# **_Module 52465: Programming for Data Analytics_**\n",
    "# **_Assignment: NumPy.Random Package_**"
   ]
  },
  {
   "cell_type": "markdown",
   "metadata": {},
   "source": [
    "# Introduction & Project Layout\n",
    "\n",
    "The primary focus of this project is to  research the numpy.random package, to explain it's overall purpose and analyse in detail at least five of the distributions within the package and also to investigate the use of both the \"Simple Random Data\" and \"Permutation\" functions. Finally the project will outline how numpy.random uses seeds in generating psuedorandom numbers. \n",
    "\n",
    "The project layout\n",
    "1. What is the numpy.random package\n",
    "2. What is the overall purpose of the package\n",
    "3. Explanation of the \"Simple Random Data\" function\n",
    "4. Explanation of the \"Permutation\" function\n",
    "5. Use/Purpose of 5 distributions functions of numpy.random\n",
    "6. Use of seeds in generating pseudorandom numbers\n",
    "7. Summary\n",
    "8. References/Biblography\n"
   ]
  },
  {
   "cell_type": "markdown",
   "metadata": {},
   "source": [
    "# _1. What is numpy.random?_\n",
    "\n",
    "\"NumPy is the fundamental package for scientific computing in Python. It is a Python library that provides a multidimensional array object, various derived objects (such as masked arrays and matrices), and an assortment of routines for fast operations on arrays, including mathematical, logical, shape manipulation, sorting, selecting, I/O, discrete Fourier transforms, basic linear algebra, basic statistical operations, random simulation and much more.\" [1]\n",
    "\n",
    "Essentially numpy is good and quick at dealing with numbers in big lists or matrices in python. If you need to deal with numbers you could write some code in python however numpy is simply a far more efficient way for you to deal with number lists or matrices in python. This specialist package deals with multi-dimensional arrays (ie. lists within lists) and it likes them to have a rectangular so two dimensionals lists each row/column having the same number of elements.  \n",
    "\n",
    "Numpy.random is a sub-package of the NumPy package in python. \n",
    "\n",
    "Further information on the functions, permutations, distributions and random generator available within the numpy.random package is available on the website below:\n",
    "\n",
    "https://docs.scipy.org/doc/numpy-1.15.0/reference/routines.random.html\n"
   ]
  },
  {
   "cell_type": "markdown",
   "metadata": {},
   "source": [
    "# _2. Purpose of the package_\n",
    "\n",
    "\"NumPy is a data manipulation module for Python. Specifically, the tools from NumPy operate on arrays of numbers … i.e., numeric data. Because NumPy functions operate on numbers, they are especially useful for data science, statistics, and machine learning\".[2]\n",
    "\n",
    "It's a specialise package which help users to efficiently deal with lists of numbers or matrices in python. It's important for the simple reason that matrice operations are commonly utilised in computers and computer screens. Some tasks which require matrice operations are:\n",
    "\n",
    "- resizing photographs\n",
    "- compressing images or songs down to a particular size\n",
    "- doing anything scientific on a computer\n",
    "\n"
   ]
  },
  {
   "cell_type": "markdown",
   "metadata": {},
   "source": [
    "# 3. Permutations\n",
    "\n"
   ]
  },
  {
   "cell_type": "markdown",
   "metadata": {},
   "source": [
    "**Shuffle**\n",
    "\n",
    "\"Modify a sequence in-place by shuffling its contents.This function only shuffles the array along the first axis of a multi-dimensional array. The order of sub-arrays is changed but their contents remains the same.\"[4]\n",
    "\n",
    "The NumPy **arange** function will produce an array with evenly spaced numerical values within a given range. In the example below an array with five values is produced from 0  to 4.\n"
   ]
  },
  {
   "cell_type": "code",
   "execution_count": 35,
   "metadata": {},
   "outputs": [
    {
     "data": {
      "text/plain": [
       "array([0, 1, 2, 3, 4])"
      ]
     },
     "execution_count": 35,
     "metadata": {},
     "output_type": "execute_result"
    }
   ],
   "source": [
    "import numpy as np\n",
    "array = np.arange(5)\n",
    "array"
   ]
  },
  {
   "cell_type": "markdown",
   "metadata": {},
   "source": [
    "When the shuffle function (ie. **np.random.shuffle** in the code below) is applied the 5 element array above is shuffled. The same five values are produced but now they are shuffled and appear in a different order as seen below:"
   ]
  },
  {
   "cell_type": "code",
   "execution_count": 37,
   "metadata": {},
   "outputs": [
    {
     "data": {
      "text/plain": [
       "array([3, 0, 1, 2, 4])"
      ]
     },
     "execution_count": 37,
     "metadata": {},
     "output_type": "execute_result"
    }
   ],
   "source": [
    "import numpy as np\n",
    "x = np.arange(5)\n",
    "np.random.shuffle(x)\n",
    "x"
   ]
  },
  {
   "cell_type": "markdown",
   "metadata": {},
   "source": [
    "**Permutation**\n",
    "\n",
    "\"Randomly permute a sequence, or return a permuted range. If x is a multi-dimensional array, it is only shuffled along its first index\". [5]\n",
    "\n",
    "When similar code is used below to produce an array with 5 evenly spaced values and the permutation function is applied, the output produces the same result every time the code is run. The output doesn't change because the permutation function doesn't change the element order within an array. "
   ]
  },
  {
   "cell_type": "code",
   "execution_count": 31,
   "metadata": {},
   "outputs": [
    {
     "data": {
      "text/plain": [
       "array([0, 1, 2, 3, 4])"
      ]
     },
     "execution_count": 31,
     "metadata": {},
     "output_type": "execute_result"
    }
   ],
   "source": [
    "import numpy as np\n",
    "x = np.arange(5)\n",
    "np.random.permutation(x)\n",
    "x"
   ]
  },
  {
   "cell_type": "markdown",
   "metadata": {},
   "source": [
    "Where the permutation function is useful is when you want to shuffle the order of arrays without making changes to the elements within the arrays. In the code below 16 evenly spaced values are produces (ie. 0,1,2....14,15), the reshape function (ie. **reshape((4, 4))** in the code below ) allows the values to be displayed in 4 arrays with 4 values in each. The first four values 0-3 make up an array, the next four values of 4-7 make up another array etc. (ie. [0,1,2,3],[4,5,6,7],[8,9,10,11],[12,13,14,15]). When the **np.random.permutation** code is run the 4 arrays are shuffled in order but values within each array do not change in oder. So the permutation function allow you to shuffle arrays without changing their contents in any way. "
   ]
  },
  {
   "cell_type": "code",
   "execution_count": 22,
   "metadata": {},
   "outputs": [
    {
     "data": {
      "text/plain": [
       "array([[ 0,  1,  2,  3],\n",
       "       [ 4,  5,  6,  7],\n",
       "       [ 8,  9, 10, 11],\n",
       "       [12, 13, 14, 15]])"
      ]
     },
     "execution_count": 22,
     "metadata": {},
     "output_type": "execute_result"
    }
   ],
   "source": [
    "import numpy as np\n",
    "x = np.arange(16).reshape((4, 4))\n",
    "np.random.permutation(x)\n",
    "x"
   ]
  },
  {
   "cell_type": "markdown",
   "metadata": {},
   "source": [
    "# 5. Use & Purpose of 5 Distribution types in NumPy.Random"
   ]
  },
  {
   "cell_type": "markdown",
   "metadata": {},
   "source": [
    "There are various distribution types which can be utilised within the NumPy.Random package. The image below briefly outlines each distrubution. In the short project I will examine five of the distributions.\n"
   ]
  },
  {
   "cell_type": "markdown",
   "metadata": {},
   "source": [
    "\n",
    "<img src=\"Numpy.Random Distributions.jpg\">\n"
   ]
  },
  {
   "cell_type": "markdown",
   "metadata": {},
   "source": [
    "**Normal Distribution**"
   ]
  },
  {
   "cell_type": "markdown",
   "metadata": {},
   "source": [
    "\n",
    "\n",
    "In 1809, the **Normal Distribution (or Gaussian or Gauss or Laplace–Gauss)** was discovered by **Carl Friedrich Gauss** a German mathematician and physicist, although contributions were also made by French mathematician **Pierre-Simon Laplace**, hence the name variation.\n",
    "\n",
    "“In probability theory, the normal distribution is a very common continual probability distribution. Normal distributions are important in statistics and are often used in the natural and social sciences to represent real-valued random variables whose distributions are not known. A random variable with a Gaussian distribution is said to be normally distributed … The normal distribution is useful because of the central limit theorem. In its most general form, under some conditions, it states that averages of samples of observations of random variables  independently drawn from the same distribution converge in distribution to the normal, that is, they become normally distributed when the number of observations is sufficiently large.” [6.Wikipedia]\n",
    "\n",
    "Some of the characteristics:\n",
    "-\tHas a single peak because most values occur in the middle (ie. near the mean)\n",
    "-\tBell-Shaped\n",
    "-\tsymmetric (ie. draw a line at the mean and left/right sides look the same)\n",
    "\n",
    "A normal distribution is defined by two things the mean and the standard deviation. The mean is the central point or midpoint of the distribution. Whereas the standard deviation outlines how widespread the distribution is.\n"
   ]
  },
  {
   "cell_type": "markdown",
   "metadata": {},
   "source": [
    "**Image and Equation:**\n",
    "\n",
    "\n",
    "\"The Normal Equation. The value of the random variable Y is:\n",
    "\n",
    "Y = { 1/[ σ * sqrt(2π) ] } * e-(x - μ)2/2σ2\n",
    "\n",
    "where X is a normal random variable, μ is the mean, σ is the standard deviation, π is approximately 3.14159, and e is approximately 2.71828.\" [7]\n",
    "\n"
   ]
  },
  {
   "cell_type": "code",
   "execution_count": 13,
   "metadata": {},
   "outputs": [
    {
     "data": {
      "text/plain": [
       "(array([  2.,   4.,  18.,  74., 162., 257., 254., 144.,  69.,  16.]),\n",
       " array([-3.94316717, -3.26795352, -2.59273987, -1.91752622, -1.24231256,\n",
       "        -0.56709891,  0.10811474,  0.7833284 ,  1.45854205,  2.1337557 ,\n",
       "         2.80896935]),\n",
       " <a list of 10 Patch objects>)"
      ]
     },
     "execution_count": 13,
     "metadata": {},
     "output_type": "execute_result"
    },
    {
     "data": {
      "image/png": "[encoded data removed]",
      "text/plain": [
       "<Figure size 432x288 with 1 Axes>"
      ]
     },
     "metadata": {
      "needs_background": "light"
     },
     "output_type": "display_data"
    }
   ],
   "source": [
    "import numpy as np\n",
    "x = np.random.normal(loc=0, scale=1, size=1000)\n",
    "import matplotlib.pyplot as plt\n",
    "plt.hist(x)"
   ]
  },
  {
   "cell_type": "markdown",
   "metadata": {},
   "source": [
    "# 6. Use of Seeds in generating Pseudorandom Numbers\n",
    "\n",
    "“The NumPy random choice function operates on the principle of pseudorandom number generation. When we use a pseudorandom number generator, the numbers in the output approximate random numbers, but are not exactly ‘random’. In fact, when we use pseudorandom numbers, the output is actually deterministic; the output is actually determined by an initializing value called a ‘seed’. Let me say that again: when we set a seed for a pseudorandom number generator, the output is completely determined by the seed. What that means is that if we use the same seed, a pseudorandom number generator will produce the same output.”[3]\n"
   ]
  },
  {
   "cell_type": "markdown",
   "metadata": {},
   "source": [
    "# _8. References/Biblography_\n",
    "\n",
    "[1] https://docs.scipy.org/doc/numpy-1.15.0/user/whatisnumpy.html accessed 1/Nov/2019\n",
    "\n",
    "[2] https://www.sharpsightlabs.com/blog/numpy-random-choice/ accessed 4/Nov/2019\n",
    "\n",
    "[3] https://www.sharpsightlabs.com/blog/numpy-random-choice/ accessed 6/Nov/2019\n",
    "\n",
    "[4] https://docs.scipy.org/doc/numpy-1.15.0/reference/generated/numpy.random.shuffle.html#numpy.random.shuffle accessed 9/Nov/2019\n",
    "\n",
    "[5] https://docs.scipy.org/doc/numpy-1.15.0/reference/generated/numpy.random.permutation.html#numpy.random.permutation accessed 9/Nov/2019\n",
    "\n",
    "[6] https://en.wikipedia.org/wiki/Normal_distribution accessed 9/Nov/2019\n",
    "\n",
    "[7] https://stattrek.com/probability-distributions/normal.aspx accessed 9/Nov/2019\n",
    "\n",
    "\n",
    "\n",
    "\n",
    "https://docs.scipy.org/doc/numpy-1.15.0/reference/routines.random.html\n"
   ]
  },
  {
   "cell_type": "code",
   "execution_count": null,
   "metadata": {},
   "outputs": [],
   "source": []
  },
  {
   "cell_type": "code",
   "execution_count": null,
   "metadata": {},
   "outputs": [],
   "source": []
  },
  {
   "cell_type": "code",
   "execution_count": null,
   "metadata": {},
   "outputs": [],
   "source": []
  }
 ],
 "metadata": {
  "kernelspec": {
   "display_name": "Python 3",
   "language": "python",
   "name": "python3"
  },
  "language_info": {
   "codemirror_mode": {
    "name": "ipython",
    "version": 3
   },
   "file_extension": ".py",
   "mimetype": "text/x-python",
   "name": "python",
   "nbconvert_exporter": "python",
   "pygments_lexer": "ipython3",
   "version": "3.7.1"
  }
 },
 "nbformat": 4,
 "nbformat_minor": 2
}
